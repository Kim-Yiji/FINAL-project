{
  "nbformat": 4,
  "nbformat_minor": 0,
  "metadata": {
    "colab": {
      "provenance": [],
      "collapsed_sections": [
        "FW-nPC15Lp9V",
        "3UVDUB_TM64g"
      ]
    },
    "kernelspec": {
      "name": "python3",
      "display_name": "Python 3"
    },
    "language_info": {
      "name": "python"
    }
  },
  "cells": [
    {
      "cell_type": "code",
      "source": [
        "from google.colab import drive\n",
        "drive.mount('/content/drive')"
      ],
      "metadata": {
        "id": "N44QYORV8wFy",
        "colab": {
          "base_uri": "https://localhost:8080/"
        },
        "outputId": "586cc27e-dca9-4413-da50-d7b15dfcfbbc"
      },
      "execution_count": 1308,
      "outputs": [
        {
          "output_type": "stream",
          "name": "stdout",
          "text": [
            "Drive already mounted at /content/drive; to attempt to forcibly remount, call drive.mount(\"/content/drive\", force_remount=True).\n"
          ]
        }
      ]
    },
    {
      "cell_type": "markdown",
      "source": [
        "- 데이터 경로 변수"
      ],
      "metadata": {
        "id": "ZhUuXRB5BCFE"
      }
    },
    {
      "cell_type": "code",
      "source": [
        "DATA_PATH = \"/content/drive/MyDrive/data/\"\n",
        "DATA_PATH"
      ],
      "metadata": {
        "id": "NfX2HPof87FT",
        "colab": {
          "base_uri": "https://localhost:8080/",
          "height": 35
        },
        "outputId": "ba9235c7-6881-4a75-fc8a-a0078fcad26d"
      },
      "execution_count": 1309,
      "outputs": [
        {
          "output_type": "execute_result",
          "data": {
            "text/plain": [
              "'/content/drive/MyDrive/data/'"
            ],
            "application/vnd.google.colaboratory.intrinsic+json": {
              "type": "string"
            }
          },
          "metadata": {},
          "execution_count": 1309
        }
      ]
    },
    {
      "cell_type": "markdown",
      "source": [
        "- 시드값"
      ],
      "metadata": {
        "id": "q1qAeLjZVWZz"
      }
    },
    {
      "cell_type": "code",
      "source": [
        "SEED = 42"
      ],
      "metadata": {
        "id": "nVyhJ6uOVVNE"
      },
      "execution_count": 1310,
      "outputs": []
    },
    {
      "cell_type": "markdown",
      "source": [
        "- 데이터 불러오기"
      ],
      "metadata": {
        "id": "sQd7JpzNBHa1"
      }
    },
    {
      "cell_type": "code",
      "source": [
        "import pandas as pd\n",
        "import numpy as np\n",
        "\n",
        "train_tr = pd.read_csv(f\"{DATA_PATH}store_train_transactions.csv\") # 학습용 구매기록 데이터\n",
        "train_target = pd.read_csv(f\"{DATA_PATH}store_train.csv\") # 학습용 정답 데이터\n",
        "test_tr = pd.read_csv(f\"{DATA_PATH}store_test_transactions.csv\") # 테스트용 구매기록 데이터\n",
        "submit = pd.read_csv(f\"{DATA_PATH}store_submission.csv\") # 제출 양식 데이터\n",
        "\n",
        "train_tr.shape , train_target.shape , test_tr.shape , submit.shape"
      ],
      "metadata": {
        "id": "KFGKUIWt89fZ",
        "colab": {
          "base_uri": "https://localhost:8080/"
        },
        "outputId": "53448a9e-6861-4aa2-f88f-053cfa9b95fb"
      },
      "execution_count": 1311,
      "outputs": [
        {
          "output_type": "execute_result",
          "data": {
            "text/plain": [
              "((523105, 7), (14940, 2), (441196, 7), (12225, 2))"
            ]
          },
          "metadata": {},
          "execution_count": 1311
        }
      ]
    },
    {
      "cell_type": "markdown",
      "source": [
        "- 공통 피처 파일 불러오기"
      ],
      "metadata": {
        "id": "XZq4x4CuP2gr"
      }
    },
    {
      "cell_type": "code",
      "source": [
        "train_ft = pd.read_csv(f\"{DATA_PATH}train_common_1_완료.csv\") # 학습 데이터(피처)\n",
        "test_ft = pd.read_csv(f\"{DATA_PATH}test_common_1_완료.csv\") # 테스트 데이터(피처)\n",
        "\n",
        "train_ft.shape , test_ft.shape"
      ],
      "metadata": {
        "id": "T3tcFrkLPv1g",
        "colab": {
          "base_uri": "https://localhost:8080/"
        },
        "outputId": "d740c669-87e9-41f0-e728-89de1f441193"
      },
      "execution_count": 1312,
      "outputs": [
        {
          "output_type": "execute_result",
          "data": {
            "text/plain": [
              "((14940, 1142), (12225, 1142))"
            ]
          },
          "metadata": {},
          "execution_count": 1312
        }
      ]
    },
    {
      "cell_type": "code",
      "source": [
        "train_ft.columns"
      ],
      "metadata": {
        "colab": {
          "base_uri": "https://localhost:8080/"
        },
        "id": "V7oNcHniSm68",
        "outputId": "1a2dcfce-9abb-432c-cefd-20ca958819f6"
      },
      "execution_count": 1313,
      "outputs": [
        {
          "output_type": "execute_result",
          "data": {
            "text/plain": [
              "Index(['ID', '구매횟수', '내점일수', '구매주기', '봄_구매비율', '여름_구매비율', '가을_구매비율', '겨울_구매비율',\n",
              "       '주구매요일', '일별평균구매건수',\n",
              "       ...\n",
              "       '최소구매액_중분류수_3_3', '최소구매액_중분류수_3_4', '최소구매액_중분류수_4_1', '최소구매액_중분류수_4_2',\n",
              "       '최소구매액_중분류수_4_3', '최소구매액_중분류수_4_4', '가족단위_구매비율', '최대구매액_대분류',\n",
              "       '최소구매액_대분류', '월별_구매총액_변화비율_1_12'],\n",
              "      dtype='object', length=1142)"
            ]
          },
          "metadata": {},
          "execution_count": 1313
        }
      ]
    },
    {
      "cell_type": "markdown",
      "source": [
        "# 결측치 처리"
      ],
      "metadata": {
        "id": "r43SCHUujW-f"
      }
    },
    {
      "cell_type": "code",
      "source": [
        "mask = train_ft.isnull().sum() > 0\n",
        "train_ft.isnull().sum()[mask]"
      ],
      "metadata": {
        "id": "0qVrhIG3Q6T3",
        "colab": {
          "base_uri": "https://localhost:8080/",
          "height": 711
        },
        "outputId": "132b7005-caeb-4498-a93a-b917db638261"
      },
      "execution_count": 1314,
      "outputs": [
        {
          "output_type": "execute_result",
          "data": {
            "text/plain": [
              "일별구매횟수표준편차               664\n",
              "3회이상count               4214\n",
              "총_생식품_구매가격              9711\n",
              "평균_생식품_구매가격             1574\n",
              "구매금액표준편차                 388\n",
              "구매금액왜도                   840\n",
              "구매금액첨도                  1265\n",
              "2004-05월_count_diff    14940\n",
              "월별_구매총액_변화_비율2_1        4251\n",
              "월별_구매총액_변화_비율3_2        4209\n",
              "월별_구매총액_변화_비율4_3        3622\n",
              "월별_구매총액_변화_비율5_4        3032\n",
              "월별_구매총액_변화_비율6_5        4120\n",
              "월별_구매총액_변화_비율7_6        3915\n",
              "월별_구매총액_변화_비율8_7        4170\n",
              "월별_구매총액_변화_비율9_8        4395\n",
              "월별_구매총액_변화_비율10_9       3867\n",
              "월별_구매총액_변화_비율11_10      4027\n",
              "월별_구매총액_변화_비율12_11      3922\n",
              "월별_구매총액_변화비율_1_12       3772\n",
              "dtype: int64"
            ],
            "text/html": [
              "<div>\n",
              "<style scoped>\n",
              "    .dataframe tbody tr th:only-of-type {\n",
              "        vertical-align: middle;\n",
              "    }\n",
              "\n",
              "    .dataframe tbody tr th {\n",
              "        vertical-align: top;\n",
              "    }\n",
              "\n",
              "    .dataframe thead th {\n",
              "        text-align: right;\n",
              "    }\n",
              "</style>\n",
              "<table border=\"1\" class=\"dataframe\">\n",
              "  <thead>\n",
              "    <tr style=\"text-align: right;\">\n",
              "      <th></th>\n",
              "      <th>0</th>\n",
              "    </tr>\n",
              "  </thead>\n",
              "  <tbody>\n",
              "    <tr>\n",
              "      <th>일별구매횟수표준편차</th>\n",
              "      <td>664</td>\n",
              "    </tr>\n",
              "    <tr>\n",
              "      <th>3회이상count</th>\n",
              "      <td>4214</td>\n",
              "    </tr>\n",
              "    <tr>\n",
              "      <th>총_생식품_구매가격</th>\n",
              "      <td>9711</td>\n",
              "    </tr>\n",
              "    <tr>\n",
              "      <th>평균_생식품_구매가격</th>\n",
              "      <td>1574</td>\n",
              "    </tr>\n",
              "    <tr>\n",
              "      <th>구매금액표준편차</th>\n",
              "      <td>388</td>\n",
              "    </tr>\n",
              "    <tr>\n",
              "      <th>구매금액왜도</th>\n",
              "      <td>840</td>\n",
              "    </tr>\n",
              "    <tr>\n",
              "      <th>구매금액첨도</th>\n",
              "      <td>1265</td>\n",
              "    </tr>\n",
              "    <tr>\n",
              "      <th>2004-05월_count_diff</th>\n",
              "      <td>14940</td>\n",
              "    </tr>\n",
              "    <tr>\n",
              "      <th>월별_구매총액_변화_비율2_1</th>\n",
              "      <td>4251</td>\n",
              "    </tr>\n",
              "    <tr>\n",
              "      <th>월별_구매총액_변화_비율3_2</th>\n",
              "      <td>4209</td>\n",
              "    </tr>\n",
              "    <tr>\n",
              "      <th>월별_구매총액_변화_비율4_3</th>\n",
              "      <td>3622</td>\n",
              "    </tr>\n",
              "    <tr>\n",
              "      <th>월별_구매총액_변화_비율5_4</th>\n",
              "      <td>3032</td>\n",
              "    </tr>\n",
              "    <tr>\n",
              "      <th>월별_구매총액_변화_비율6_5</th>\n",
              "      <td>4120</td>\n",
              "    </tr>\n",
              "    <tr>\n",
              "      <th>월별_구매총액_변화_비율7_6</th>\n",
              "      <td>3915</td>\n",
              "    </tr>\n",
              "    <tr>\n",
              "      <th>월별_구매총액_변화_비율8_7</th>\n",
              "      <td>4170</td>\n",
              "    </tr>\n",
              "    <tr>\n",
              "      <th>월별_구매총액_변화_비율9_8</th>\n",
              "      <td>4395</td>\n",
              "    </tr>\n",
              "    <tr>\n",
              "      <th>월별_구매총액_변화_비율10_9</th>\n",
              "      <td>3867</td>\n",
              "    </tr>\n",
              "    <tr>\n",
              "      <th>월별_구매총액_변화_비율11_10</th>\n",
              "      <td>4027</td>\n",
              "    </tr>\n",
              "    <tr>\n",
              "      <th>월별_구매총액_변화_비율12_11</th>\n",
              "      <td>3922</td>\n",
              "    </tr>\n",
              "    <tr>\n",
              "      <th>월별_구매총액_변화비율_1_12</th>\n",
              "      <td>3772</td>\n",
              "    </tr>\n",
              "  </tbody>\n",
              "</table>\n",
              "</div><br><label><b>dtype:</b> int64</label>"
            ]
          },
          "metadata": {},
          "execution_count": 1314
        }
      ]
    },
    {
      "cell_type": "code",
      "source": [
        "mask = test_ft.isnull().sum() > 0\n",
        "test_ft.isnull().sum()[mask]"
      ],
      "metadata": {
        "id": "51Fu8zq9Q6Q8",
        "colab": {
          "base_uri": "https://localhost:8080/",
          "height": 711
        },
        "outputId": "d66c420a-d4ec-4400-dc93-94fddfacddf2"
      },
      "execution_count": 1315,
      "outputs": [
        {
          "output_type": "execute_result",
          "data": {
            "text/plain": [
              "일별구매횟수표준편차               443\n",
              "3회이상count               3284\n",
              "총_생식품_구매가격              7820\n",
              "평균_생식품_구매가격             1257\n",
              "구매금액표준편차                 242\n",
              "구매금액왜도                   599\n",
              "구매금액첨도                   954\n",
              "2004-05월_count_diff    12225\n",
              "월별_구매총액_변화_비율2_1        3335\n",
              "월별_구매총액_변화_비율3_2        3269\n",
              "월별_구매총액_변화_비율4_3        2864\n",
              "월별_구매총액_변화_비율5_4        2392\n",
              "월별_구매총액_변화_비율6_5        3267\n",
              "월별_구매총액_변화_비율7_6        3086\n",
              "월별_구매총액_변화_비율8_7        3312\n",
              "월별_구매총액_변화_비율9_8        3475\n",
              "월별_구매총액_변화_비율10_9       3059\n",
              "월별_구매총액_변화_비율11_10      3098\n",
              "월별_구매총액_변화_비율12_11      3009\n",
              "월별_구매총액_변화비율_1_12       2963\n",
              "dtype: int64"
            ],
            "text/html": [
              "<div>\n",
              "<style scoped>\n",
              "    .dataframe tbody tr th:only-of-type {\n",
              "        vertical-align: middle;\n",
              "    }\n",
              "\n",
              "    .dataframe tbody tr th {\n",
              "        vertical-align: top;\n",
              "    }\n",
              "\n",
              "    .dataframe thead th {\n",
              "        text-align: right;\n",
              "    }\n",
              "</style>\n",
              "<table border=\"1\" class=\"dataframe\">\n",
              "  <thead>\n",
              "    <tr style=\"text-align: right;\">\n",
              "      <th></th>\n",
              "      <th>0</th>\n",
              "    </tr>\n",
              "  </thead>\n",
              "  <tbody>\n",
              "    <tr>\n",
              "      <th>일별구매횟수표준편차</th>\n",
              "      <td>443</td>\n",
              "    </tr>\n",
              "    <tr>\n",
              "      <th>3회이상count</th>\n",
              "      <td>3284</td>\n",
              "    </tr>\n",
              "    <tr>\n",
              "      <th>총_생식품_구매가격</th>\n",
              "      <td>7820</td>\n",
              "    </tr>\n",
              "    <tr>\n",
              "      <th>평균_생식품_구매가격</th>\n",
              "      <td>1257</td>\n",
              "    </tr>\n",
              "    <tr>\n",
              "      <th>구매금액표준편차</th>\n",
              "      <td>242</td>\n",
              "    </tr>\n",
              "    <tr>\n",
              "      <th>구매금액왜도</th>\n",
              "      <td>599</td>\n",
              "    </tr>\n",
              "    <tr>\n",
              "      <th>구매금액첨도</th>\n",
              "      <td>954</td>\n",
              "    </tr>\n",
              "    <tr>\n",
              "      <th>2004-05월_count_diff</th>\n",
              "      <td>12225</td>\n",
              "    </tr>\n",
              "    <tr>\n",
              "      <th>월별_구매총액_변화_비율2_1</th>\n",
              "      <td>3335</td>\n",
              "    </tr>\n",
              "    <tr>\n",
              "      <th>월별_구매총액_변화_비율3_2</th>\n",
              "      <td>3269</td>\n",
              "    </tr>\n",
              "    <tr>\n",
              "      <th>월별_구매총액_변화_비율4_3</th>\n",
              "      <td>2864</td>\n",
              "    </tr>\n",
              "    <tr>\n",
              "      <th>월별_구매총액_변화_비율5_4</th>\n",
              "      <td>2392</td>\n",
              "    </tr>\n",
              "    <tr>\n",
              "      <th>월별_구매총액_변화_비율6_5</th>\n",
              "      <td>3267</td>\n",
              "    </tr>\n",
              "    <tr>\n",
              "      <th>월별_구매총액_변화_비율7_6</th>\n",
              "      <td>3086</td>\n",
              "    </tr>\n",
              "    <tr>\n",
              "      <th>월별_구매총액_변화_비율8_7</th>\n",
              "      <td>3312</td>\n",
              "    </tr>\n",
              "    <tr>\n",
              "      <th>월별_구매총액_변화_비율9_8</th>\n",
              "      <td>3475</td>\n",
              "    </tr>\n",
              "    <tr>\n",
              "      <th>월별_구매총액_변화_비율10_9</th>\n",
              "      <td>3059</td>\n",
              "    </tr>\n",
              "    <tr>\n",
              "      <th>월별_구매총액_변화_비율11_10</th>\n",
              "      <td>3098</td>\n",
              "    </tr>\n",
              "    <tr>\n",
              "      <th>월별_구매총액_변화_비율12_11</th>\n",
              "      <td>3009</td>\n",
              "    </tr>\n",
              "    <tr>\n",
              "      <th>월별_구매총액_변화비율_1_12</th>\n",
              "      <td>2963</td>\n",
              "    </tr>\n",
              "  </tbody>\n",
              "</table>\n",
              "</div><br><label><b>dtype:</b> int64</label>"
            ]
          },
          "metadata": {},
          "execution_count": 1315
        }
      ]
    },
    {
      "cell_type": "markdown",
      "source": [
        "## Pandas로 결측치 처리"
      ],
      "metadata": {
        "id": "oIXy-y_jT35-"
      }
    },
    {
      "cell_type": "code",
      "source": [
        "train_ft[\"구매금액표준편차\"] = train_ft[\"구매금액표준편차\"].fillna(0)\n",
        "test_ft[\"구매금액표준편차\"] = test_ft[\"구매금액표준편차\"].fillna(0)"
      ],
      "metadata": {
        "id": "_WWYPw12Q6OC"
      },
      "execution_count": 1316,
      "outputs": []
    },
    {
      "cell_type": "code",
      "source": [
        "train_ft.shape, test_ft.shape"
      ],
      "metadata": {
        "colab": {
          "base_uri": "https://localhost:8080/"
        },
        "id": "Gb0Iyy_CTh2y",
        "outputId": "a19c9694-ea30-4fa9-e63c-3786715c0efa"
      },
      "execution_count": 1317,
      "outputs": [
        {
          "output_type": "execute_result",
          "data": {
            "text/plain": [
              "((14940, 1142), (12225, 1142))"
            ]
          },
          "metadata": {},
          "execution_count": 1317
        }
      ]
    },
    {
      "cell_type": "code",
      "source": [
        "train_ft['일별구매횟수표준편차'] = train_ft['일별구매횟수표준편차'].fillna(train_ft['일별구매횟수표준편차'].median())\n",
        "test_ft['일별구매횟수표준편차'] = test_ft['일별구매횟수표준편차'].fillna(train_ft['일별구매횟수표준편차'].median())"
      ],
      "metadata": {
        "id": "S9W6BjabSUb0"
      },
      "execution_count": 1318,
      "outputs": []
    },
    {
      "cell_type": "code",
      "source": [
        "train_ft[\"3회이상count\"] = train_ft[\"3회이상count\"].fillna(0)\n",
        "test_ft[\"3회이상count\"] = test_ft[\"3회이상count\"].fillna(0)"
      ],
      "metadata": {
        "id": "j65jpofvVhlc"
      },
      "execution_count": 1319,
      "outputs": []
    },
    {
      "cell_type": "code",
      "source": [
        "train_ft[\"총_생식품_구매가격\"] = train_ft[\"총_생식품_구매가격\"].fillna(0)\n",
        "test_ft[\"총_생식품_구매가격\"] = test_ft[\"총_생식품_구매가격\"].fillna(0)"
      ],
      "metadata": {
        "id": "96xFxjs-WWTc"
      },
      "execution_count": 1320,
      "outputs": []
    },
    {
      "cell_type": "code",
      "source": [
        "train_ft[\"평균_생식품_구매가격\"] = train_ft[\"평균_생식품_구매가격\"].fillna(0)\n",
        "test_ft[\"평균_생식품_구매가격\"] = test_ft[\"평균_생식품_구매가격\"].fillna(0)"
      ],
      "metadata": {
        "id": "RDqNHmHnWlqB"
      },
      "execution_count": 1321,
      "outputs": []
    },
    {
      "cell_type": "code",
      "source": [
        "train_ft['구매금액왜도'] = train_ft['구매금액왜도'].fillna(train_ft['구매금액왜도'].median())\n",
        "test_ft['구매금액왜도'] = test_ft['구매금액왜도'].fillna(train_ft['구매금액왜도'].median())"
      ],
      "metadata": {
        "id": "STS5P7B4Wpm1"
      },
      "execution_count": 1322,
      "outputs": []
    },
    {
      "cell_type": "code",
      "source": [
        "train_ft['구매금액첨도'] = train_ft['구매금액첨도'].fillna(train_ft['구매금액첨도'].median())\n",
        "test_ft['구매금액첨도'] = test_ft['구매금액첨도'].fillna(train_ft['구매금액첨도'].median())"
      ],
      "metadata": {
        "id": "lhP4IgLgYOb0"
      },
      "execution_count": 1323,
      "outputs": []
    },
    {
      "cell_type": "code",
      "source": [
        "train_ft = train_ft.drop('2004-05월_count_diff', axis=1)"
      ],
      "metadata": {
        "id": "uLM9heu0ZcCl"
      },
      "execution_count": 1324,
      "outputs": []
    },
    {
      "cell_type": "code",
      "source": [
        "test_ft = test_ft.drop('2004-05월_count_diff', axis=1)"
      ],
      "metadata": {
        "id": "unnGjvI0a7QL"
      },
      "execution_count": 1325,
      "outputs": []
    },
    {
      "cell_type": "code",
      "source": [
        "cols = ['월별_구매총액_변화_비율2_1', '월별_구매총액_변화_비율3_2', '월별_구매총액_변화_비율4_3', '월별_구매총액_변화_비율5_4',\n",
        "        '월별_구매총액_변화_비율6_5', '월별_구매총액_변화_비율7_6', '월별_구매총액_변화_비율8_7', '월별_구매총액_변화_비율9_8', '월별_구매총액_변화_비율10_9',\n",
        "        '월별_구매총액_변화_비율11_10', '월별_구매총액_변화_비율12_11', '월별_구매총액_변화비율_1_12']\n",
        "\n",
        "train_ft = train_ft.drop(cols, axis=1)\n"
      ],
      "metadata": {
        "id": "FBPIYMCMgqmF"
      },
      "execution_count": 1326,
      "outputs": []
    },
    {
      "cell_type": "code",
      "source": [
        "test_ft = test_ft.drop(cols, axis=1)"
      ],
      "metadata": {
        "id": "f1O-_E3BhgCj"
      },
      "execution_count": 1327,
      "outputs": []
    },
    {
      "cell_type": "code",
      "source": [
        "train_ft.isnull().sum().sum(), test_ft.isnull().sum().sum()"
      ],
      "metadata": {
        "colab": {
          "base_uri": "https://localhost:8080/"
        },
        "id": "cgJzXrtEZW5Z",
        "outputId": "8f27722f-697d-4e8e-dcc1-cb14ab05d351"
      },
      "execution_count": 1328,
      "outputs": [
        {
          "output_type": "execute_result",
          "data": {
            "text/plain": [
              "(0, 0)"
            ]
          },
          "metadata": {},
          "execution_count": 1328
        }
      ]
    },
    {
      "cell_type": "markdown",
      "source": [
        "## Imute로 결측치 처리"
      ],
      "metadata": {
        "id": "0QZAH2oL7phU"
      }
    },
    {
      "cell_type": "code",
      "source": [
        "# from sklearn.impute import KNNImputer"
      ],
      "metadata": {
        "id": "EOW43RdP7sDx"
      },
      "execution_count": 1329,
      "outputs": []
    },
    {
      "cell_type": "code",
      "source": [
        "# knn = KNNImputer(n_neighbors=10)"
      ],
      "metadata": {
        "id": "MHZGhx-17yH3"
      },
      "execution_count": 1330,
      "outputs": []
    },
    {
      "cell_type": "code",
      "source": [
        "# train_ft[cols] = train_ft[cols].replace([np.inf, -np.inf], np.nan)\n",
        "# cols = train_ft.select_dtypes(include=['float64', 'int64']).columns\n",
        "\n",
        "# knn_data = knn.fit_transform(train_ft[cols])\n",
        "# train_tmp = pd.DataFrame(knn_data, columns=train_ft.columns)\n",
        "# train_tmp.isnull().sum()"
      ],
      "metadata": {
        "id": "9YdljiXM8BMr"
      },
      "execution_count": 1331,
      "outputs": []
    },
    {
      "cell_type": "markdown",
      "source": [
        "# 특성 공학(Feature Engineering)"
      ],
      "metadata": {
        "id": "fgPa4QG0RF2d"
      }
    },
    {
      "cell_type": "markdown",
      "source": [
        "- ID 변수 제외"
      ],
      "metadata": {
        "id": "OXuo6unbRLGm"
      }
    },
    {
      "cell_type": "code",
      "source": [
        "train_ft = train_ft.iloc[:,1:]\n",
        "test_ft = test_ft.iloc[:,1:]\n",
        "train_ft.shape, test_ft.shape"
      ],
      "metadata": {
        "id": "xfksFVguRFuZ",
        "colab": {
          "base_uri": "https://localhost:8080/"
        },
        "outputId": "8f8b8ff5-798a-48f0-a887-ba736d0259c0"
      },
      "execution_count": 1332,
      "outputs": [
        {
          "output_type": "execute_result",
          "data": {
            "text/plain": [
              "((14940, 1128), (12225, 1128))"
            ]
          },
          "metadata": {},
          "execution_count": 1332
        }
      ]
    },
    {
      "cell_type": "markdown",
      "source": [
        "- 추가 피처 만들어 보기"
      ],
      "metadata": {
        "id": "jjuSj8URRa_q"
      }
    },
    {
      "cell_type": "code",
      "source": [
        "cols = [ col for col in train_ft.columns if col.startswith(\"pivot_cnt_\") ]"
      ],
      "metadata": {
        "id": "fKVLplcDReFj"
      },
      "execution_count": 1333,
      "outputs": []
    },
    {
      "cell_type": "code",
      "source": [
        "train_ft[\"중분류별_구매횟수_std\"] = train_ft[cols].std(axis=1)\n",
        "train_ft[\"중분류별_구매횟수_skew\"] = train_ft[cols].skew(axis=1)\n",
        "train_ft[\"중분류별_구매횟수_kurt\"] = train_ft[cols].kurt(axis=1)\n",
        "\n",
        "test_ft[\"중분류별_구매횟수_std\"] = test_ft[cols].std(axis=1)\n",
        "test_ft[\"중분류별_구매횟수_skew\"] = test_ft[cols].skew(axis=1)\n",
        "test_ft[\"중분류별_구매횟수_kurt\"] = test_ft[cols].kurt(axis=1)\n",
        "\n",
        "train_ft.shape, test_ft.shape"
      ],
      "metadata": {
        "id": "EQaqdQSARFr4",
        "colab": {
          "base_uri": "https://localhost:8080/"
        },
        "outputId": "a87fb4fa-911e-4b80-b13a-95b7326566e7"
      },
      "execution_count": 1334,
      "outputs": [
        {
          "output_type": "execute_result",
          "data": {
            "text/plain": [
              "((14940, 1131), (12225, 1131))"
            ]
          },
          "metadata": {},
          "execution_count": 1334
        }
      ]
    },
    {
      "cell_type": "code",
      "source": [
        "cols = [ col for col in train_ft.columns if col.startswith(\"수정_중_pivot_cnt_\") ]"
      ],
      "metadata": {
        "id": "p9vf3QG9iCoT"
      },
      "execution_count": 1335,
      "outputs": []
    },
    {
      "cell_type": "code",
      "source": [
        "train_ft[\"수정_중분류별_구매횟수_std\"] = train_ft[cols].std(axis=1)\n",
        "train_ft[\"수정_중분류별_구매횟수_skew\"] = train_ft[cols].skew(axis=1)\n",
        "train_ft[\"수정_중분류별_구매횟수_kurt\"] = train_ft[cols].kurt(axis=1)\n",
        "\n",
        "test_ft[\"수정_중분류별_구매횟수_std\"] = test_ft[cols].std(axis=1)\n",
        "test_ft[\"수정_중분류별_구매횟수_skew\"] = test_ft[cols].skew(axis=1)\n",
        "test_ft[\"수정_중분류별_구매횟수_kurt\"] = test_ft[cols].kurt(axis=1)\n",
        "\n",
        "train_ft.shape, test_ft.shape"
      ],
      "metadata": {
        "colab": {
          "base_uri": "https://localhost:8080/"
        },
        "id": "UyYOP1J1iDGz",
        "outputId": "0caebce7-eb9c-49fc-867a-bedb11cf7448"
      },
      "execution_count": 1336,
      "outputs": [
        {
          "output_type": "execute_result",
          "data": {
            "text/plain": [
              "((14940, 1134), (12225, 1134))"
            ]
          },
          "metadata": {},
          "execution_count": 1336
        }
      ]
    },
    {
      "cell_type": "code",
      "source": [
        "cols_대 = [ col for col in train_ft.columns if col.startswith(\"대_pivot_cnt\") ]"
      ],
      "metadata": {
        "id": "UjpKBCKmiFHX"
      },
      "execution_count": 1337,
      "outputs": []
    },
    {
      "cell_type": "code",
      "source": [
        "train_ft[\"대분류별_구매횟수_std\"] = train_ft[cols_대].std(axis=1)\n",
        "train_ft[\"대분류별_구매횟수_skew\"] = train_ft[cols_대].skew(axis=1)\n",
        "train_ft[\"대분류별_구매횟수_kurt\"] = train_ft[cols_대].kurt(axis=1)\n",
        "\n",
        "test_ft[\"대분류별_구매횟수_std\"] = test_ft[cols_대].std(axis=1)\n",
        "test_ft[\"대분류별_구매횟수_skew\"] = test_ft[cols_대].skew(axis=1)\n",
        "test_ft[\"대분류별_구매횟수_kurt\"] = test_ft[cols_대].kurt(axis=1)\n",
        "\n",
        "train_ft.shape, test_ft.shape"
      ],
      "metadata": {
        "colab": {
          "base_uri": "https://localhost:8080/"
        },
        "id": "Oao__AjgiHNF",
        "outputId": "4a10363d-dcef-406c-9000-2743c4cf5db6"
      },
      "execution_count": 1338,
      "outputs": [
        {
          "output_type": "execute_result",
          "data": {
            "text/plain": [
              "((14940, 1137), (12225, 1137))"
            ]
          },
          "metadata": {},
          "execution_count": 1338
        }
      ]
    },
    {
      "cell_type": "markdown",
      "source": [
        "## Feature Encoding"
      ],
      "metadata": {
        "id": "gXvdNLMtSVlW"
      }
    },
    {
      "cell_type": "code",
      "source": [
        "train_ft = train_ft.drop(columns = [\"하루 구매 시간 간격\"])\n",
        "test_ft = test_ft.drop(columns = [\"하루 구매 시간 간격\"])\n",
        "train_ft.shape, test_ft.shape"
      ],
      "metadata": {
        "colab": {
          "base_uri": "https://localhost:8080/"
        },
        "id": "ax1HdyDeiKCa",
        "outputId": "08b87fce-4cd2-4d18-e371-e2dec9168788"
      },
      "execution_count": 1339,
      "outputs": [
        {
          "output_type": "execute_result",
          "data": {
            "text/plain": [
              "((14940, 1136), (12225, 1136))"
            ]
          },
          "metadata": {},
          "execution_count": 1339
        }
      ]
    },
    {
      "cell_type": "code",
      "source": [
        "cols = train_ft.select_dtypes(\"object\").columns.tolist()\n",
        "train_ft[cols].nunique()"
      ],
      "metadata": {
        "id": "0YvdL9OVSRab",
        "colab": {
          "base_uri": "https://localhost:8080/",
          "height": 272
        },
        "outputId": "864d3de9-cad2-45c9-8b37-1632154afd79"
      },
      "execution_count": 1340,
      "outputs": [
        {
          "output_type": "execute_result",
          "data": {
            "text/plain": [
              "주구매지점           4\n",
              "주구매_중분류       246\n",
              "주구매_대분류        28\n",
              "주구매_수정_중분류    211\n",
              "최대구매액_대분류      28\n",
              "최소구매액_대분류      28\n",
              "dtype: int64"
            ],
            "text/html": [
              "<div>\n",
              "<style scoped>\n",
              "    .dataframe tbody tr th:only-of-type {\n",
              "        vertical-align: middle;\n",
              "    }\n",
              "\n",
              "    .dataframe tbody tr th {\n",
              "        vertical-align: top;\n",
              "    }\n",
              "\n",
              "    .dataframe thead th {\n",
              "        text-align: right;\n",
              "    }\n",
              "</style>\n",
              "<table border=\"1\" class=\"dataframe\">\n",
              "  <thead>\n",
              "    <tr style=\"text-align: right;\">\n",
              "      <th></th>\n",
              "      <th>0</th>\n",
              "    </tr>\n",
              "  </thead>\n",
              "  <tbody>\n",
              "    <tr>\n",
              "      <th>주구매지점</th>\n",
              "      <td>4</td>\n",
              "    </tr>\n",
              "    <tr>\n",
              "      <th>주구매_중분류</th>\n",
              "      <td>246</td>\n",
              "    </tr>\n",
              "    <tr>\n",
              "      <th>주구매_대분류</th>\n",
              "      <td>28</td>\n",
              "    </tr>\n",
              "    <tr>\n",
              "      <th>주구매_수정_중분류</th>\n",
              "      <td>211</td>\n",
              "    </tr>\n",
              "    <tr>\n",
              "      <th>최대구매액_대분류</th>\n",
              "      <td>28</td>\n",
              "    </tr>\n",
              "    <tr>\n",
              "      <th>최소구매액_대분류</th>\n",
              "      <td>28</td>\n",
              "    </tr>\n",
              "  </tbody>\n",
              "</table>\n",
              "</div><br><label><b>dtype:</b> int64</label>"
            ]
          },
          "metadata": {},
          "execution_count": 1340
        }
      ]
    },
    {
      "cell_type": "code",
      "source": [
        "%pip install category_encoders"
      ],
      "metadata": {
        "id": "RICJpfu2SRWd",
        "colab": {
          "base_uri": "https://localhost:8080/"
        },
        "outputId": "d33653a2-416e-4885-f71b-5984378c2ed4"
      },
      "execution_count": 1341,
      "outputs": [
        {
          "output_type": "stream",
          "name": "stdout",
          "text": [
            "Requirement already satisfied: category_encoders in /usr/local/lib/python3.10/dist-packages (2.6.4)\n",
            "Requirement already satisfied: numpy>=1.14.0 in /usr/local/lib/python3.10/dist-packages (from category_encoders) (1.26.4)\n",
            "Requirement already satisfied: scikit-learn>=0.20.0 in /usr/local/lib/python3.10/dist-packages (from category_encoders) (1.5.2)\n",
            "Requirement already satisfied: scipy>=1.0.0 in /usr/local/lib/python3.10/dist-packages (from category_encoders) (1.13.1)\n",
            "Requirement already satisfied: statsmodels>=0.9.0 in /usr/local/lib/python3.10/dist-packages (from category_encoders) (0.14.4)\n",
            "Requirement already satisfied: pandas>=1.0.5 in /usr/local/lib/python3.10/dist-packages (from category_encoders) (2.2.2)\n",
            "Requirement already satisfied: patsy>=0.5.1 in /usr/local/lib/python3.10/dist-packages (from category_encoders) (0.5.6)\n",
            "Requirement already satisfied: python-dateutil>=2.8.2 in /usr/local/lib/python3.10/dist-packages (from pandas>=1.0.5->category_encoders) (2.8.2)\n",
            "Requirement already satisfied: pytz>=2020.1 in /usr/local/lib/python3.10/dist-packages (from pandas>=1.0.5->category_encoders) (2024.2)\n",
            "Requirement already satisfied: tzdata>=2022.7 in /usr/local/lib/python3.10/dist-packages (from pandas>=1.0.5->category_encoders) (2024.2)\n",
            "Requirement already satisfied: six in /usr/local/lib/python3.10/dist-packages (from patsy>=0.5.1->category_encoders) (1.16.0)\n",
            "Requirement already satisfied: joblib>=1.2.0 in /usr/local/lib/python3.10/dist-packages (from scikit-learn>=0.20.0->category_encoders) (1.4.2)\n",
            "Requirement already satisfied: threadpoolctl>=3.1.0 in /usr/local/lib/python3.10/dist-packages (from scikit-learn>=0.20.0->category_encoders) (3.5.0)\n",
            "Requirement already satisfied: packaging>=21.3 in /usr/local/lib/python3.10/dist-packages (from statsmodels>=0.9.0->category_encoders) (24.1)\n"
          ]
        }
      ]
    },
    {
      "cell_type": "code",
      "source": [
        "import category_encoders as ce"
      ],
      "metadata": {
        "id": "KBjgGRGESRTl"
      },
      "execution_count": 1342,
      "outputs": []
    },
    {
      "cell_type": "code",
      "source": [
        "enc = ce.one_hot.OneHotEncoder()\n",
        "tmp = enc.fit_transform(train_ft[[\"주구매지점\",\"주구매_대분류\", \"최소구매액_대분류\", \"최대구매액_대분류\"]])\n",
        "train_ft = pd.concat([train_ft,tmp],axis =1)\n",
        "\n",
        "tmp = enc.transform(test_ft[[\"주구매지점\",\"주구매_대분류\", \"최소구매액_대분류\", \"최대구매액_대분류\"]])\n",
        "test_ft = pd.concat([test_ft,tmp],axis =1)\n",
        "\n",
        "train_ft.shape, test_ft.shape"
      ],
      "metadata": {
        "id": "3d6B3II8T25p",
        "colab": {
          "base_uri": "https://localhost:8080/"
        },
        "outputId": "f7ecc657-08f0-42a2-c238-5f753c2fe6d7"
      },
      "execution_count": 1343,
      "outputs": [
        {
          "output_type": "execute_result",
          "data": {
            "text/plain": [
              "((14940, 1224), (12225, 1224))"
            ]
          },
          "metadata": {},
          "execution_count": 1343
        }
      ]
    },
    {
      "cell_type": "code",
      "source": [
        "enc = ce.count.CountEncoder()\n",
        "train_ft[\"주구매_중분류_cnt\"] = enc.fit_transform(train_ft[[\"주구매_중분류\"]])\n",
        "test_ft[\"주구매_중분류_cnt\"] = enc.transform(test_ft[[\"주구매_중분류\"]])\n",
        "\n",
        "train_ft.shape, test_ft.shape"
      ],
      "metadata": {
        "id": "q0ztgmEMRFpN",
        "colab": {
          "base_uri": "https://localhost:8080/"
        },
        "outputId": "cd26d4f7-cd17-466e-e51a-74870faf8ac6"
      },
      "execution_count": 1344,
      "outputs": [
        {
          "output_type": "execute_result",
          "data": {
            "text/plain": [
              "((14940, 1225), (12225, 1225))"
            ]
          },
          "metadata": {},
          "execution_count": 1344
        }
      ]
    },
    {
      "cell_type": "code",
      "source": [
        "enc = ce.count.CountEncoder()\n",
        "train_ft[\"주구매_수정_중분류_cnt\"] = enc.fit_transform(train_ft[[\"주구매_수정_중분류\"]])\n",
        "test_ft[\"주구매_수정_중분류_cnt\"] = enc.transform(test_ft[[\"주구매_수정_중분류\"]])\n",
        "\n",
        "train_ft.shape, test_ft.shape"
      ],
      "metadata": {
        "colab": {
          "base_uri": "https://localhost:8080/"
        },
        "id": "vgFudYbkiacF",
        "outputId": "e800e2c5-a870-4c5e-c8df-1c2747147510"
      },
      "execution_count": 1345,
      "outputs": [
        {
          "output_type": "execute_result",
          "data": {
            "text/plain": [
              "((14940, 1226), (12225, 1226))"
            ]
          },
          "metadata": {},
          "execution_count": 1345
        }
      ]
    },
    {
      "cell_type": "markdown",
      "source": [
        "- 문자열 피처 삭제"
      ],
      "metadata": {
        "id": "lPURwRnPUj-B"
      }
    },
    {
      "cell_type": "code",
      "source": [
        "cols"
      ],
      "metadata": {
        "id": "suLVrqBCRFmK",
        "colab": {
          "base_uri": "https://localhost:8080/"
        },
        "outputId": "0eb7f271-68c7-4a26-c91a-e4a2c55fbb79"
      },
      "execution_count": 1346,
      "outputs": [
        {
          "output_type": "execute_result",
          "data": {
            "text/plain": [
              "['주구매지점', '주구매_중분류', '주구매_대분류', '주구매_수정_중분류', '최대구매액_대분류', '최소구매액_대분류']"
            ]
          },
          "metadata": {},
          "execution_count": 1346
        }
      ]
    },
    {
      "cell_type": "code",
      "source": [
        "train_ft = train_ft.drop(columns=cols)\n",
        "test_ft = test_ft.drop(columns=cols)\n",
        "train_ft.shape, test_ft.shape"
      ],
      "metadata": {
        "id": "zZlZoAMZUbGp",
        "colab": {
          "base_uri": "https://localhost:8080/"
        },
        "outputId": "7ddbddab-d46e-408e-e79b-a2da9f0b792e"
      },
      "execution_count": 1347,
      "outputs": [
        {
          "output_type": "execute_result",
          "data": {
            "text/plain": [
              "((14940, 1220), (12225, 1220))"
            ]
          },
          "metadata": {},
          "execution_count": 1347
        }
      ]
    },
    {
      "cell_type": "code",
      "source": [
        "train_ft.select_dtypes(\"object\").columns , test_ft.select_dtypes(\"object\").columns"
      ],
      "metadata": {
        "id": "1-y4-kmTUmso",
        "colab": {
          "base_uri": "https://localhost:8080/"
        },
        "outputId": "d3a94635-18c5-47f4-8d97-cfd080e381ef"
      },
      "execution_count": 1348,
      "outputs": [
        {
          "output_type": "execute_result",
          "data": {
            "text/plain": [
              "(Index([], dtype='object'), Index([], dtype='object'))"
            ]
          },
          "metadata": {},
          "execution_count": 1348
        }
      ]
    },
    {
      "cell_type": "markdown",
      "source": [
        "## Feature Scaling"
      ],
      "metadata": {
        "id": "KAQ-3TU5U0Pk"
      }
    },
    {
      "cell_type": "markdown",
      "source": [
        "### StandardScaler"
      ],
      "metadata": {
        "id": "K5sc-IlwJIPS"
      }
    },
    {
      "cell_type": "code",
      "source": [
        "from sklearn.preprocessing import StandardScaler\n",
        "scaler = StandardScaler()"
      ],
      "metadata": {
        "id": "2_ywU--RUmp7"
      },
      "execution_count": 1349,
      "outputs": []
    },
    {
      "cell_type": "code",
      "source": [
        "train_ft[train_ft.columns] = scaler.fit_transform(train_ft)\n",
        "test_ft[test_ft.columns] = scaler.transform(test_ft)\n",
        "train_ft.head()"
      ],
      "metadata": {
        "id": "vyDpuu4OUmnO",
        "colab": {
          "base_uri": "https://localhost:8080/",
          "height": 307
        },
        "outputId": "60c6ba7a-07f8-4851-a620-337be3b944db"
      },
      "execution_count": 1350,
      "outputs": [
        {
          "output_type": "execute_result",
          "data": {
            "text/plain": [
              "       구매횟수      내점일수      구매주기    봄_구매비율   여름_구매비율   가을_구매비율   겨울_구매비율  \\\n",
              "0 -0.437126 -0.369867  0.002987 -1.029777  0.001191  0.838272  0.338186   \n",
              "1  0.239394  0.144110 -0.356452  0.323951 -0.390607  0.620171 -0.552996   \n",
              "2  1.890101  1.943028 -0.869935  0.798943 -0.514333 -0.304527 -0.059266   \n",
              "3  4.298510  3.793345 -1.023980  0.420933 -0.327474  0.008592 -0.135636   \n",
              "4  0.618244  0.452496 -0.613193 -0.752532  1.707410 -0.130285 -0.821561   \n",
              "\n",
              "      주구매요일  일별평균구매건수     거래개월수  ...  최대구매액_대분류_21  최대구매액_대분류_22  \\\n",
              "0  0.109631 -0.057297  0.017620  ...      -0.07785       -0.1402   \n",
              "1  0.109631  0.222706  1.176010  ...      -0.07785       -0.1402   \n",
              "2 -1.643370  0.277707  1.465608  ...      -0.07785       -0.1402   \n",
              "3  0.109631  0.674668  1.465608  ...      -0.07785       -0.1402   \n",
              "4  0.693965  0.679008  0.886413  ...      -0.07785       -0.1402   \n",
              "\n",
              "   최대구매액_대분류_23  최대구매액_대분류_24  최대구매액_대분류_25  최대구매액_대분류_26  최대구매액_대분류_27  \\\n",
              "0     -0.200973     -0.090737     -0.071977     -0.146044     -0.067118   \n",
              "1     -0.200973     -0.090737     -0.071977     -0.146044     -0.067118   \n",
              "2     -0.200973     -0.090737     -0.071977     -0.146044     -0.067118   \n",
              "3     -0.200973     -0.090737     -0.071977     -0.146044     -0.067118   \n",
              "4     -0.200973     -0.090737     -0.071977     -0.146044     -0.067118   \n",
              "\n",
              "   최대구매액_대분류_28  주구매_중분류_cnt  주구매_수정_중분류_cnt  \n",
              "0     -0.050497    -0.726970       -0.763996  \n",
              "1     -0.050497    -0.510078       -0.467002  \n",
              "2     -0.050497    -0.848408       -0.888034  \n",
              "3     -0.050497     1.523851        1.535081  \n",
              "4     -0.050497    -0.833157       -0.872893  \n",
              "\n",
              "[5 rows x 1220 columns]"
            ],
            "text/html": [
              "\n",
              "  <div id=\"df-0fb2790d-695d-481f-837c-5a748072edbe\" class=\"colab-df-container\">\n",
              "    <div>\n",
              "<style scoped>\n",
              "    .dataframe tbody tr th:only-of-type {\n",
              "        vertical-align: middle;\n",
              "    }\n",
              "\n",
              "    .dataframe tbody tr th {\n",
              "        vertical-align: top;\n",
              "    }\n",
              "\n",
              "    .dataframe thead th {\n",
              "        text-align: right;\n",
              "    }\n",
              "</style>\n",
              "<table border=\"1\" class=\"dataframe\">\n",
              "  <thead>\n",
              "    <tr style=\"text-align: right;\">\n",
              "      <th></th>\n",
              "      <th>구매횟수</th>\n",
              "      <th>내점일수</th>\n",
              "      <th>구매주기</th>\n",
              "      <th>봄_구매비율</th>\n",
              "      <th>여름_구매비율</th>\n",
              "      <th>가을_구매비율</th>\n",
              "      <th>겨울_구매비율</th>\n",
              "      <th>주구매요일</th>\n",
              "      <th>일별평균구매건수</th>\n",
              "      <th>거래개월수</th>\n",
              "      <th>...</th>\n",
              "      <th>최대구매액_대분류_21</th>\n",
              "      <th>최대구매액_대분류_22</th>\n",
              "      <th>최대구매액_대분류_23</th>\n",
              "      <th>최대구매액_대분류_24</th>\n",
              "      <th>최대구매액_대분류_25</th>\n",
              "      <th>최대구매액_대분류_26</th>\n",
              "      <th>최대구매액_대분류_27</th>\n",
              "      <th>최대구매액_대분류_28</th>\n",
              "      <th>주구매_중분류_cnt</th>\n",
              "      <th>주구매_수정_중분류_cnt</th>\n",
              "    </tr>\n",
              "  </thead>\n",
              "  <tbody>\n",
              "    <tr>\n",
              "      <th>0</th>\n",
              "      <td>-0.437126</td>\n",
              "      <td>-0.369867</td>\n",
              "      <td>0.002987</td>\n",
              "      <td>-1.029777</td>\n",
              "      <td>0.001191</td>\n",
              "      <td>0.838272</td>\n",
              "      <td>0.338186</td>\n",
              "      <td>0.109631</td>\n",
              "      <td>-0.057297</td>\n",
              "      <td>0.017620</td>\n",
              "      <td>...</td>\n",
              "      <td>-0.07785</td>\n",
              "      <td>-0.1402</td>\n",
              "      <td>-0.200973</td>\n",
              "      <td>-0.090737</td>\n",
              "      <td>-0.071977</td>\n",
              "      <td>-0.146044</td>\n",
              "      <td>-0.067118</td>\n",
              "      <td>-0.050497</td>\n",
              "      <td>-0.726970</td>\n",
              "      <td>-0.763996</td>\n",
              "    </tr>\n",
              "    <tr>\n",
              "      <th>1</th>\n",
              "      <td>0.239394</td>\n",
              "      <td>0.144110</td>\n",
              "      <td>-0.356452</td>\n",
              "      <td>0.323951</td>\n",
              "      <td>-0.390607</td>\n",
              "      <td>0.620171</td>\n",
              "      <td>-0.552996</td>\n",
              "      <td>0.109631</td>\n",
              "      <td>0.222706</td>\n",
              "      <td>1.176010</td>\n",
              "      <td>...</td>\n",
              "      <td>-0.07785</td>\n",
              "      <td>-0.1402</td>\n",
              "      <td>-0.200973</td>\n",
              "      <td>-0.090737</td>\n",
              "      <td>-0.071977</td>\n",
              "      <td>-0.146044</td>\n",
              "      <td>-0.067118</td>\n",
              "      <td>-0.050497</td>\n",
              "      <td>-0.510078</td>\n",
              "      <td>-0.467002</td>\n",
              "    </tr>\n",
              "    <tr>\n",
              "      <th>2</th>\n",
              "      <td>1.890101</td>\n",
              "      <td>1.943028</td>\n",
              "      <td>-0.869935</td>\n",
              "      <td>0.798943</td>\n",
              "      <td>-0.514333</td>\n",
              "      <td>-0.304527</td>\n",
              "      <td>-0.059266</td>\n",
              "      <td>-1.643370</td>\n",
              "      <td>0.277707</td>\n",
              "      <td>1.465608</td>\n",
              "      <td>...</td>\n",
              "      <td>-0.07785</td>\n",
              "      <td>-0.1402</td>\n",
              "      <td>-0.200973</td>\n",
              "      <td>-0.090737</td>\n",
              "      <td>-0.071977</td>\n",
              "      <td>-0.146044</td>\n",
              "      <td>-0.067118</td>\n",
              "      <td>-0.050497</td>\n",
              "      <td>-0.848408</td>\n",
              "      <td>-0.888034</td>\n",
              "    </tr>\n",
              "    <tr>\n",
              "      <th>3</th>\n",
              "      <td>4.298510</td>\n",
              "      <td>3.793345</td>\n",
              "      <td>-1.023980</td>\n",
              "      <td>0.420933</td>\n",
              "      <td>-0.327474</td>\n",
              "      <td>0.008592</td>\n",
              "      <td>-0.135636</td>\n",
              "      <td>0.109631</td>\n",
              "      <td>0.674668</td>\n",
              "      <td>1.465608</td>\n",
              "      <td>...</td>\n",
              "      <td>-0.07785</td>\n",
              "      <td>-0.1402</td>\n",
              "      <td>-0.200973</td>\n",
              "      <td>-0.090737</td>\n",
              "      <td>-0.071977</td>\n",
              "      <td>-0.146044</td>\n",
              "      <td>-0.067118</td>\n",
              "      <td>-0.050497</td>\n",
              "      <td>1.523851</td>\n",
              "      <td>1.535081</td>\n",
              "    </tr>\n",
              "    <tr>\n",
              "      <th>4</th>\n",
              "      <td>0.618244</td>\n",
              "      <td>0.452496</td>\n",
              "      <td>-0.613193</td>\n",
              "      <td>-0.752532</td>\n",
              "      <td>1.707410</td>\n",
              "      <td>-0.130285</td>\n",
              "      <td>-0.821561</td>\n",
              "      <td>0.693965</td>\n",
              "      <td>0.679008</td>\n",
              "      <td>0.886413</td>\n",
              "      <td>...</td>\n",
              "      <td>-0.07785</td>\n",
              "      <td>-0.1402</td>\n",
              "      <td>-0.200973</td>\n",
              "      <td>-0.090737</td>\n",
              "      <td>-0.071977</td>\n",
              "      <td>-0.146044</td>\n",
              "      <td>-0.067118</td>\n",
              "      <td>-0.050497</td>\n",
              "      <td>-0.833157</td>\n",
              "      <td>-0.872893</td>\n",
              "    </tr>\n",
              "  </tbody>\n",
              "</table>\n",
              "<p>5 rows × 1220 columns</p>\n",
              "</div>\n",
              "    <div class=\"colab-df-buttons\">\n",
              "\n",
              "  <div class=\"colab-df-container\">\n",
              "    <button class=\"colab-df-convert\" onclick=\"convertToInteractive('df-0fb2790d-695d-481f-837c-5a748072edbe')\"\n",
              "            title=\"Convert this dataframe to an interactive table.\"\n",
              "            style=\"display:none;\">\n",
              "\n",
              "  <svg xmlns=\"http://www.w3.org/2000/svg\" height=\"24px\" viewBox=\"0 -960 960 960\">\n",
              "    <path d=\"M120-120v-720h720v720H120Zm60-500h600v-160H180v160Zm220 220h160v-160H400v160Zm0 220h160v-160H400v160ZM180-400h160v-160H180v160Zm440 0h160v-160H620v160ZM180-180h160v-160H180v160Zm440 0h160v-160H620v160Z\"/>\n",
              "  </svg>\n",
              "    </button>\n",
              "\n",
              "  <style>\n",
              "    .colab-df-container {\n",
              "      display:flex;\n",
              "      gap: 12px;\n",
              "    }\n",
              "\n",
              "    .colab-df-convert {\n",
              "      background-color: #E8F0FE;\n",
              "      border: none;\n",
              "      border-radius: 50%;\n",
              "      cursor: pointer;\n",
              "      display: none;\n",
              "      fill: #1967D2;\n",
              "      height: 32px;\n",
              "      padding: 0 0 0 0;\n",
              "      width: 32px;\n",
              "    }\n",
              "\n",
              "    .colab-df-convert:hover {\n",
              "      background-color: #E2EBFA;\n",
              "      box-shadow: 0px 1px 2px rgba(60, 64, 67, 0.3), 0px 1px 3px 1px rgba(60, 64, 67, 0.15);\n",
              "      fill: #174EA6;\n",
              "    }\n",
              "\n",
              "    .colab-df-buttons div {\n",
              "      margin-bottom: 4px;\n",
              "    }\n",
              "\n",
              "    [theme=dark] .colab-df-convert {\n",
              "      background-color: #3B4455;\n",
              "      fill: #D2E3FC;\n",
              "    }\n",
              "\n",
              "    [theme=dark] .colab-df-convert:hover {\n",
              "      background-color: #434B5C;\n",
              "      box-shadow: 0px 1px 3px 1px rgba(0, 0, 0, 0.15);\n",
              "      filter: drop-shadow(0px 1px 2px rgba(0, 0, 0, 0.3));\n",
              "      fill: #FFFFFF;\n",
              "    }\n",
              "  </style>\n",
              "\n",
              "    <script>\n",
              "      const buttonEl =\n",
              "        document.querySelector('#df-0fb2790d-695d-481f-837c-5a748072edbe button.colab-df-convert');\n",
              "      buttonEl.style.display =\n",
              "        google.colab.kernel.accessAllowed ? 'block' : 'none';\n",
              "\n",
              "      async function convertToInteractive(key) {\n",
              "        const element = document.querySelector('#df-0fb2790d-695d-481f-837c-5a748072edbe');\n",
              "        const dataTable =\n",
              "          await google.colab.kernel.invokeFunction('convertToInteractive',\n",
              "                                                    [key], {});\n",
              "        if (!dataTable) return;\n",
              "\n",
              "        const docLinkHtml = 'Like what you see? Visit the ' +\n",
              "          '<a target=\"_blank\" href=https://colab.research.google.com/notebooks/data_table.ipynb>data table notebook</a>'\n",
              "          + ' to learn more about interactive tables.';\n",
              "        element.innerHTML = '';\n",
              "        dataTable['output_type'] = 'display_data';\n",
              "        await google.colab.output.renderOutput(dataTable, element);\n",
              "        const docLink = document.createElement('div');\n",
              "        docLink.innerHTML = docLinkHtml;\n",
              "        element.appendChild(docLink);\n",
              "      }\n",
              "    </script>\n",
              "  </div>\n",
              "\n",
              "\n",
              "<div id=\"df-07518c51-eeda-4532-a842-25f862e8dc0d\">\n",
              "  <button class=\"colab-df-quickchart\" onclick=\"quickchart('df-07518c51-eeda-4532-a842-25f862e8dc0d')\"\n",
              "            title=\"Suggest charts\"\n",
              "            style=\"display:none;\">\n",
              "\n",
              "<svg xmlns=\"http://www.w3.org/2000/svg\" height=\"24px\"viewBox=\"0 0 24 24\"\n",
              "     width=\"24px\">\n",
              "    <g>\n",
              "        <path d=\"M19 3H5c-1.1 0-2 .9-2 2v14c0 1.1.9 2 2 2h14c1.1 0 2-.9 2-2V5c0-1.1-.9-2-2-2zM9 17H7v-7h2v7zm4 0h-2V7h2v10zm4 0h-2v-4h2v4z\"/>\n",
              "    </g>\n",
              "</svg>\n",
              "  </button>\n",
              "\n",
              "<style>\n",
              "  .colab-df-quickchart {\n",
              "      --bg-color: #E8F0FE;\n",
              "      --fill-color: #1967D2;\n",
              "      --hover-bg-color: #E2EBFA;\n",
              "      --hover-fill-color: #174EA6;\n",
              "      --disabled-fill-color: #AAA;\n",
              "      --disabled-bg-color: #DDD;\n",
              "  }\n",
              "\n",
              "  [theme=dark] .colab-df-quickchart {\n",
              "      --bg-color: #3B4455;\n",
              "      --fill-color: #D2E3FC;\n",
              "      --hover-bg-color: #434B5C;\n",
              "      --hover-fill-color: #FFFFFF;\n",
              "      --disabled-bg-color: #3B4455;\n",
              "      --disabled-fill-color: #666;\n",
              "  }\n",
              "\n",
              "  .colab-df-quickchart {\n",
              "    background-color: var(--bg-color);\n",
              "    border: none;\n",
              "    border-radius: 50%;\n",
              "    cursor: pointer;\n",
              "    display: none;\n",
              "    fill: var(--fill-color);\n",
              "    height: 32px;\n",
              "    padding: 0;\n",
              "    width: 32px;\n",
              "  }\n",
              "\n",
              "  .colab-df-quickchart:hover {\n",
              "    background-color: var(--hover-bg-color);\n",
              "    box-shadow: 0 1px 2px rgba(60, 64, 67, 0.3), 0 1px 3px 1px rgba(60, 64, 67, 0.15);\n",
              "    fill: var(--button-hover-fill-color);\n",
              "  }\n",
              "\n",
              "  .colab-df-quickchart-complete:disabled,\n",
              "  .colab-df-quickchart-complete:disabled:hover {\n",
              "    background-color: var(--disabled-bg-color);\n",
              "    fill: var(--disabled-fill-color);\n",
              "    box-shadow: none;\n",
              "  }\n",
              "\n",
              "  .colab-df-spinner {\n",
              "    border: 2px solid var(--fill-color);\n",
              "    border-color: transparent;\n",
              "    border-bottom-color: var(--fill-color);\n",
              "    animation:\n",
              "      spin 1s steps(1) infinite;\n",
              "  }\n",
              "\n",
              "  @keyframes spin {\n",
              "    0% {\n",
              "      border-color: transparent;\n",
              "      border-bottom-color: var(--fill-color);\n",
              "      border-left-color: var(--fill-color);\n",
              "    }\n",
              "    20% {\n",
              "      border-color: transparent;\n",
              "      border-left-color: var(--fill-color);\n",
              "      border-top-color: var(--fill-color);\n",
              "    }\n",
              "    30% {\n",
              "      border-color: transparent;\n",
              "      border-left-color: var(--fill-color);\n",
              "      border-top-color: var(--fill-color);\n",
              "      border-right-color: var(--fill-color);\n",
              "    }\n",
              "    40% {\n",
              "      border-color: transparent;\n",
              "      border-right-color: var(--fill-color);\n",
              "      border-top-color: var(--fill-color);\n",
              "    }\n",
              "    60% {\n",
              "      border-color: transparent;\n",
              "      border-right-color: var(--fill-color);\n",
              "    }\n",
              "    80% {\n",
              "      border-color: transparent;\n",
              "      border-right-color: var(--fill-color);\n",
              "      border-bottom-color: var(--fill-color);\n",
              "    }\n",
              "    90% {\n",
              "      border-color: transparent;\n",
              "      border-bottom-color: var(--fill-color);\n",
              "    }\n",
              "  }\n",
              "</style>\n",
              "\n",
              "  <script>\n",
              "    async function quickchart(key) {\n",
              "      const quickchartButtonEl =\n",
              "        document.querySelector('#' + key + ' button');\n",
              "      quickchartButtonEl.disabled = true;  // To prevent multiple clicks.\n",
              "      quickchartButtonEl.classList.add('colab-df-spinner');\n",
              "      try {\n",
              "        const charts = await google.colab.kernel.invokeFunction(\n",
              "            'suggestCharts', [key], {});\n",
              "      } catch (error) {\n",
              "        console.error('Error during call to suggestCharts:', error);\n",
              "      }\n",
              "      quickchartButtonEl.classList.remove('colab-df-spinner');\n",
              "      quickchartButtonEl.classList.add('colab-df-quickchart-complete');\n",
              "    }\n",
              "    (() => {\n",
              "      let quickchartButtonEl =\n",
              "        document.querySelector('#df-07518c51-eeda-4532-a842-25f862e8dc0d button');\n",
              "      quickchartButtonEl.style.display =\n",
              "        google.colab.kernel.accessAllowed ? 'block' : 'none';\n",
              "    })();\n",
              "  </script>\n",
              "</div>\n",
              "\n",
              "    </div>\n",
              "  </div>\n"
            ],
            "application/vnd.google.colaboratory.intrinsic+json": {
              "type": "dataframe",
              "variable_name": "train_ft"
            }
          },
          "metadata": {},
          "execution_count": 1350
        }
      ]
    },
    {
      "cell_type": "markdown",
      "source": [
        "### MinMaxScaler"
      ],
      "metadata": {
        "id": "LUIgvnXxJO5x"
      }
    },
    {
      "cell_type": "code",
      "source": [
        "# from sklearn.preprocessing import MinMaxScaler\n",
        "# scaler = MinMaxScaler()"
      ],
      "metadata": {
        "id": "DYLW9QssJRY3"
      },
      "execution_count": 1351,
      "outputs": []
    },
    {
      "cell_type": "code",
      "source": [
        "# train_ft[train_ft.columns] = scaler.fit_transform(train_ft)\n",
        "# test_ft[test_ft.columns] = scaler.transform(test_ft)\n",
        "# train_ft.head()"
      ],
      "metadata": {
        "id": "oPGZkqKEKSU7"
      },
      "execution_count": 1352,
      "outputs": []
    },
    {
      "cell_type": "markdown",
      "source": [
        "### PowerTransform"
      ],
      "metadata": {
        "id": "FW-nPC15Lp9V"
      }
    },
    {
      "cell_type": "code",
      "source": [
        "# from sklearn.preprocessing import PowerTransformer\n",
        "# scaler = PowerTransformer()"
      ],
      "metadata": {
        "id": "nhsEnIJ3LskS"
      },
      "execution_count": 1353,
      "outputs": []
    },
    {
      "cell_type": "code",
      "source": [
        "# train_ft[train_ft.columns] = scaler.fit_transform(train_ft)\n",
        "# test_ft[test_ft.columns] = scaler.transform(test_ft)\n",
        "# train_ft.head()"
      ],
      "metadata": {
        "id": "AC0H5MqXLt94"
      },
      "execution_count": 1354,
      "outputs": []
    },
    {
      "cell_type": "markdown",
      "source": [
        "### Robust"
      ],
      "metadata": {
        "id": "3UVDUB_TM64g"
      }
    },
    {
      "cell_type": "code",
      "source": [
        "# from sklearn.preprocessing import RobustScaler\n",
        "# scaler = RobustScaler()"
      ],
      "metadata": {
        "id": "OzQLZgJgM8v0"
      },
      "execution_count": 1355,
      "outputs": []
    },
    {
      "cell_type": "code",
      "source": [
        "# train_ft[train_ft.columns] = scaler.fit_transform(train_ft)\n",
        "# test_ft[test_ft.columns] = scaler.transform(test_ft)\n",
        "# train_ft.head()"
      ],
      "metadata": {
        "id": "qRRampuMNFHL"
      },
      "execution_count": 1356,
      "outputs": []
    },
    {
      "cell_type": "markdown",
      "source": [
        "# 정답 데이터"
      ],
      "metadata": {
        "id": "Xlmnx5QsU8_x"
      }
    },
    {
      "cell_type": "code",
      "source": [
        "target = train_target[\"target\"]\n",
        "target"
      ],
      "metadata": {
        "id": "sawXnAciUmkJ",
        "colab": {
          "base_uri": "https://localhost:8080/",
          "height": 458
        },
        "outputId": "06fdf18d-10a4-4252-ce17-0df265e8c472"
      },
      "execution_count": 1357,
      "outputs": [
        {
          "output_type": "execute_result",
          "data": {
            "text/plain": [
              "0        1.0\n",
              "1        1.0\n",
              "2        0.0\n",
              "3        0.0\n",
              "4        0.0\n",
              "        ... \n",
              "14935    0.0\n",
              "14936    0.0\n",
              "14937    0.0\n",
              "14938    1.0\n",
              "14939    1.0\n",
              "Name: target, Length: 14940, dtype: float64"
            ],
            "text/html": [
              "<div>\n",
              "<style scoped>\n",
              "    .dataframe tbody tr th:only-of-type {\n",
              "        vertical-align: middle;\n",
              "    }\n",
              "\n",
              "    .dataframe tbody tr th {\n",
              "        vertical-align: top;\n",
              "    }\n",
              "\n",
              "    .dataframe thead th {\n",
              "        text-align: right;\n",
              "    }\n",
              "</style>\n",
              "<table border=\"1\" class=\"dataframe\">\n",
              "  <thead>\n",
              "    <tr style=\"text-align: right;\">\n",
              "      <th></th>\n",
              "      <th>target</th>\n",
              "    </tr>\n",
              "  </thead>\n",
              "  <tbody>\n",
              "    <tr>\n",
              "      <th>0</th>\n",
              "      <td>1.0</td>\n",
              "    </tr>\n",
              "    <tr>\n",
              "      <th>1</th>\n",
              "      <td>1.0</td>\n",
              "    </tr>\n",
              "    <tr>\n",
              "      <th>2</th>\n",
              "      <td>0.0</td>\n",
              "    </tr>\n",
              "    <tr>\n",
              "      <th>3</th>\n",
              "      <td>0.0</td>\n",
              "    </tr>\n",
              "    <tr>\n",
              "      <th>4</th>\n",
              "      <td>0.0</td>\n",
              "    </tr>\n",
              "    <tr>\n",
              "      <th>...</th>\n",
              "      <td>...</td>\n",
              "    </tr>\n",
              "    <tr>\n",
              "      <th>14935</th>\n",
              "      <td>0.0</td>\n",
              "    </tr>\n",
              "    <tr>\n",
              "      <th>14936</th>\n",
              "      <td>0.0</td>\n",
              "    </tr>\n",
              "    <tr>\n",
              "      <th>14937</th>\n",
              "      <td>0.0</td>\n",
              "    </tr>\n",
              "    <tr>\n",
              "      <th>14938</th>\n",
              "      <td>1.0</td>\n",
              "    </tr>\n",
              "    <tr>\n",
              "      <th>14939</th>\n",
              "      <td>1.0</td>\n",
              "    </tr>\n",
              "  </tbody>\n",
              "</table>\n",
              "<p>14940 rows × 1 columns</p>\n",
              "</div><br><label><b>dtype:</b> float64</label>"
            ]
          },
          "metadata": {},
          "execution_count": 1357
        }
      ]
    },
    {
      "cell_type": "markdown",
      "source": [
        "# cv 점수 확인해보기"
      ],
      "metadata": {
        "id": "rXinfWehVH4-"
      }
    },
    {
      "cell_type": "code",
      "source": [
        "from sklearn.model_selection import cross_val_score\n",
        "from sklearn.model_selection import KFold\n",
        "cv = KFold(n_splits=5,shuffle=True, random_state=SEED)"
      ],
      "metadata": {
        "id": "9zdzXYwOVSgV"
      },
      "execution_count": 1358,
      "outputs": []
    },
    {
      "cell_type": "code",
      "source": [
        "from lightgbm import LGBMClassifier\n",
        "\n",
        "model = LGBMClassifier(random_state=SEED)\n",
        "scores = cross_val_score(model,train_ft,target,cv = cv ,scoring='f1_macro',n_jobs = -1)\n",
        "np.mean(scores)"
      ],
      "metadata": {
        "id": "rY6xQ68PVGwP",
        "colab": {
          "base_uri": "https://localhost:8080/"
        },
        "outputId": "d56d0e66-e54d-49b1-ffd9-3f4410f73141"
      },
      "execution_count": 1359,
      "outputs": [
        {
          "output_type": "execute_result",
          "data": {
            "text/plain": [
              "0.7153748437971978"
            ]
          },
          "metadata": {},
          "execution_count": 1359
        }
      ]
    },
    {
      "cell_type": "markdown",
      "source": [
        "# 피처 셀렉션"
      ],
      "metadata": {
        "id": "l1f62kzZxcDp"
      }
    },
    {
      "cell_type": "code",
      "source": [
        "%pip install lightgbm"
      ],
      "metadata": {
        "id": "E5T8m844DG7Y",
        "colab": {
          "base_uri": "https://localhost:8080/"
        },
        "outputId": "68fcf4bb-f076-4c19-bdb9-aad00778755e"
      },
      "execution_count": 1291,
      "outputs": [
        {
          "output_type": "stream",
          "name": "stdout",
          "text": [
            "Requirement already satisfied: lightgbm in /usr/local/lib/python3.10/dist-packages (4.5.0)\n",
            "Requirement already satisfied: numpy>=1.17.0 in /usr/local/lib/python3.10/dist-packages (from lightgbm) (1.26.4)\n",
            "Requirement already satisfied: scipy in /usr/local/lib/python3.10/dist-packages (from lightgbm) (1.13.1)\n"
          ]
        }
      ]
    },
    {
      "cell_type": "markdown",
      "source": [
        "## RandomForestClassifier with LogisticRegression"
      ],
      "metadata": {
        "id": "7Uddb2UJPO-E"
      }
    },
    {
      "cell_type": "code",
      "source": [
        "from sklearn.ensemble import RandomForestClassifier\n",
        "from sklearn.linear_model import LogisticRegression\n",
        "\n",
        "# rf = RandomForestClassifier(random_state=42) # 특성 선택을 하기 위한 모델\n",
        "# model = LogisticRegression(random_state=42) # 학습용 모델"
      ],
      "metadata": {
        "id": "G6exABJ0xdw9"
      },
      "execution_count": 1292,
      "outputs": []
    },
    {
      "cell_type": "code",
      "source": [
        "# from sklearn.feature_selection import SelectFromModel\n",
        "# fs = SelectFromModel(rf) # 특성 선택에 사용하기 위한 모델 객체 전달해 줘야 함\n",
        "# x_train = fs.fit_transform(train_ft, target) # 특성 선택이 완료된 입력 데이터가 ndarray로 반환\n",
        "\n",
        "# scores = cross_val_score(model, x_train, target, cv=cv, scoring='f1_macro', n_jobs=-1)\n",
        "# scores.mean()"
      ],
      "metadata": {
        "id": "aNKmz_9VxhEo"
      },
      "execution_count": 1293,
      "outputs": []
    },
    {
      "cell_type": "code",
      "source": [
        "# best_cols = fs.get_feature_names_out()\n",
        "# best_cols"
      ],
      "metadata": {
        "id": "rzqICfoexlMU"
      },
      "execution_count": 1294,
      "outputs": []
    },
    {
      "cell_type": "code",
      "source": [
        "# train_tmp = train_ft[best_cols]"
      ],
      "metadata": {
        "id": "9bdcQnDa6BbV"
      },
      "execution_count": 1295,
      "outputs": []
    },
    {
      "cell_type": "code",
      "source": [
        "# model = LGBMClassifier(random_state=SEED)\n",
        "# scores = cross_val_score(model,train_tmp,target,cv = cv ,scoring='f1_macro',n_jobs = -1)\n",
        "# np.mean(scores)"
      ],
      "metadata": {
        "id": "yj9ByHQT7Iw0"
      },
      "execution_count": 1296,
      "outputs": []
    },
    {
      "cell_type": "markdown",
      "source": [
        "## LogisticRegression with RandomForestClassifier"
      ],
      "metadata": {
        "id": "ipT-Vfl9SOey"
      }
    },
    {
      "cell_type": "code",
      "source": [
        "# lr = LogisticRegression(random_state=42) # 특성 선택을 하기 위한 모델\n",
        "# model = RandomForestClassifier(random_state=42) # 학습용 모델"
      ],
      "metadata": {
        "id": "lCyb2ItC5ZEy"
      },
      "execution_count": 1297,
      "outputs": []
    },
    {
      "cell_type": "code",
      "source": [
        "from sklearn.feature_selection import SelectFromModel\n",
        "# fs = SelectFromModel(lr) # 특성 선택에 사용하기 위한 모델 객체 전달해 줘야 함\n",
        "# x_train = fs.fit_transform(train_ft, target) # 특성 선택이 완료된 입력 데이터가 ndarray로 반환\n",
        "\n",
        "# scores = cross_val_score(model, x_train, target, cv=cv, scoring='f1_macro', n_jobs=-1)\n",
        "# scores.mean()"
      ],
      "metadata": {
        "id": "QRBBhRSa5ceL"
      },
      "execution_count": 1298,
      "outputs": []
    },
    {
      "cell_type": "code",
      "source": [
        "# best_cols = fs.get_feature_names_out()\n",
        "# best_cols"
      ],
      "metadata": {
        "id": "47Ms3pS7TgGz"
      },
      "execution_count": 1299,
      "outputs": []
    },
    {
      "cell_type": "code",
      "source": [
        "# train_tmp = train_ft[best_cols]\n",
        "# train_tmp.head()"
      ],
      "metadata": {
        "id": "OFJVDNTZTjWH"
      },
      "execution_count": 1300,
      "outputs": []
    },
    {
      "cell_type": "code",
      "source": [
        "# model = LGBMClassifier(random_state=SEED)\n",
        "# scores = cross_val_score(model,train_tmp,target,cv = cv ,scoring='f1_macro',n_jobs = -1)\n",
        "# np.mean(scores)"
      ],
      "metadata": {
        "id": "HhsmuFh6TtEs"
      },
      "execution_count": 1301,
      "outputs": []
    },
    {
      "cell_type": "markdown",
      "source": [
        "## SelectKBest"
      ],
      "metadata": {
        "id": "4dcuKaV7VmiK"
      }
    },
    {
      "cell_type": "code",
      "source": [
        "from sklearn.feature_selection import SelectKBest, SelectPercentile"
      ],
      "metadata": {
        "id": "abwEQpV-Vo4Y"
      },
      "execution_count": 1302,
      "outputs": []
    },
    {
      "cell_type": "code",
      "source": [
        "sk = SelectKBest(k=500)\n",
        "x = sk.fit_transform(train_ft, target)\n",
        "scores = cross_val_score(model, x, target, cv=cv, scoring=\"f1_macro\", n_jobs=-1)\n",
        "scores.mean()"
      ],
      "metadata": {
        "colab": {
          "base_uri": "https://localhost:8080/"
        },
        "id": "oXM7EmvXV1F3",
        "outputId": "8ce8856c-69b1-4964-982c-a119fa1b7bf2"
      },
      "execution_count": 1303,
      "outputs": [
        {
          "output_type": "execute_result",
          "data": {
            "text/plain": [
              "0.7088537922931876"
            ]
          },
          "metadata": {},
          "execution_count": 1303
        }
      ]
    },
    {
      "cell_type": "code",
      "source": [
        "best_cols = sk.get_feature_names_out()\n",
        "best_cols"
      ],
      "metadata": {
        "colab": {
          "base_uri": "https://localhost:8080/"
        },
        "id": "zuc_myzEWI7D",
        "outputId": "879db70c-c639-4783-e600-74d32376ef67"
      },
      "execution_count": 1304,
      "outputs": [
        {
          "output_type": "execute_result",
          "data": {
            "text/plain": [
              "array(['구매횟수', '내점일수', '구매주기', '여름_구매비율', '겨울_구매비율', '일별평균구매건수', '거래개월수',\n",
              "       '12시이전구매비율', '12시이후_18시이전구매비율', '18시이후구매비율', '평일_18시_구매비율',\n",
              "       '주중방문비율', '주말방문비율', '12시이전구매횟수', '12시이후_18시이전구매횟수', '방문평균거래평균횟수',\n",
              "       '일별최대구매횟수', '일별평균구매횟수', '일별중앙값구매횟수', '일별구매횟수표준편차', '월요일방문비율',\n",
              "       '화요일방문비율', '수요일방문비율', '목요일방문비율', '금요일방문비율', '일요일방문비율', '거래주수',\n",
              "       '거래기간일수', '구매월요일cnt', '구매화요일cnt', '구매수요일cnt', '구매목요일cnt',\n",
              "       '구매금요일cnt', '구매토요일cnt', '구매일요일cnt', '주구매시간', '어린이날전후구매',\n",
              "       '크리스마스전후구매', '설날전후구매', '추석전후구매', '9시_구매비율', '10시_구매비율', '11시_구매비율',\n",
              "       '12시_구매비율', '13시_구매비율', '14시_구매비율', '15시_구매비율', '16시_구매비율',\n",
              "       '17시_구매비율', '18시_구매비율', '19시_구매비율', '20시_구매비율', '짧은_구매주기',\n",
              "       '긴_구매주기', '많은_거래개월수', '적은_거래개월수', '구매주기짧고_거래개월많음', '구매주기짧고_거래개월적음',\n",
              "       '구매주기긴_거래개월적음', '많은_내점일수', '적은_내점일수', '구매주기짧고_내점일수많음',\n",
              "       '구매주기짧고_내점일수적음', '구매주기긴_내점일수적음', '브랜드코드_평균구매액', '3회이상count',\n",
              "       '중분류_nunique', '중분류_아동_cnt', '중_주구매비율', '행사키워드_구매횟수', '골프유무',\n",
              "       '골프count', '유아관련유무', '유아관련count', '대분류_nunique', '대분류_아동_cnt',\n",
              "       '대_주구매비율', '대분류_여성_cnt', '대분류_남성_cnt', '대분류_생식품_cnt', '남_여모두구매',\n",
              "       '총_생식품_구매가격', '평균_생식품_구매가격', '총구매액', '구매건수', '평균구매액', '최대구매액',\n",
              "       '환불금액', '환불건수', '구매금액표준편차', '구매금액왜도', '구매금액첨도', '최대구매액 - 최소구매액',\n",
              "       '구매가격_특이값', '같은가격재구매횟수', '같은중분류재구매횟수', '반복중분류비율', '실제구매횟수', '환불율',\n",
              "       '많은_구매액', '최소구매액만이상_최대구매액중앙값이상', '최소구매액만미만_최대구매액중앙값이상',\n",
              "       '거래개월대비구매비용', '거래개월대비구매횟수', '2004-05월_avg', '2004-06월_avg',\n",
              "       '2004-07월_avg', '2004-08월_avg', '2004-10월_avg', '2005-01월_avg',\n",
              "       '2005-04월_avg', '2004-05월_count', '2004-06월_count',\n",
              "       '2004-07월_count', '2004-08월_count', '2004-09월_count',\n",
              "       '2004-10월_count', '2004-11월_count', '2004-12월_count',\n",
              "       '2005-01월_count', '2005-02월_count', '2005-03월_count',\n",
              "       '2005-04월_count', '2004-05월_sum', '2004-06월_sum', '2004-07월_sum',\n",
              "       '2004-08월_sum', '2004-09월_sum', '2004-10월_sum', '2004-11월_sum',\n",
              "       '2004-12월_sum', '2005-01월_sum', '2005-02월_sum', '2005-03월_sum',\n",
              "       '2005-04월_sum', '2004-05월_max', '2004-06월_max', '2004-07월_max',\n",
              "       '2004-08월_max', '2004-09월_max', '2004-10월_max', '2004-11월_max',\n",
              "       '2004-12월_max', '2005-01월_max', '2005-02월_max', '2005-03월_max',\n",
              "       '2005-04월_max', '2004-08월_count_diff', '2005-04월_count_diff',\n",
              "       '주차_1주_avg', '주차_21주_avg', '주차_23주_avg', '주차_24주_avg',\n",
              "       '주차_25주_avg', '주차_28주_avg', '주차_29주_avg', '주차_36주_avg',\n",
              "       '주차_46주_avg', '주차_1주_count', '주차_2주_count', '주차_3주_count',\n",
              "       '주차_5주_count', '주차_6주_count', '주차_7주_count', '주차_8주_count',\n",
              "       '주차_9주_count', '주차_10주_count', '주차_11주_count', '주차_12주_count',\n",
              "       '주차_13주_count', '주차_14주_count', '주차_15주_count', '주차_16주_count',\n",
              "       '주차_17주_count', '주차_18주_count', '주차_19주_count', '주차_20주_count',\n",
              "       '주차_21주_count', '주차_22주_count', '주차_23주_count', '주차_24주_count',\n",
              "       '주차_25주_count', '주차_26주_count', '주차_27주_count', '주차_28주_count',\n",
              "       '주차_29주_count', '주차_30주_count', '주차_31주_count', '주차_32주_count',\n",
              "       '주차_33주_count', '주차_34주_count', '주차_35주_count', '주차_36주_count',\n",
              "       '주차_37주_count', '주차_38주_count', '주차_39주_count', '주차_40주_count',\n",
              "       '주차_41주_count', '주차_42주_count', '주차_43주_count', '주차_44주_count',\n",
              "       '주차_45주_count', '주차_46주_count', '주차_47주_count', '주차_48주_count',\n",
              "       '주차_49주_count', '주차_50주_count', '주차_51주_count', '주차_52주_count',\n",
              "       '주차_53주_count', '주차_1주_sum', '주차_2주_sum', '주차_8주_sum',\n",
              "       '주차_14주_sum', '주차_15주_sum', '주차_19주_sum', '주차_20주_sum',\n",
              "       '주차_21주_sum', '주차_22주_sum', '주차_23주_sum', '주차_24주_sum',\n",
              "       '주차_25주_sum', '주차_26주_sum', '주차_27주_sum', '주차_28주_sum',\n",
              "       '주차_29주_sum', '주차_30주_sum', '주차_31주_sum', '주차_35주_sum',\n",
              "       '주차_36주_sum', '주차_39주_sum', '주차_40주_sum', '주차_41주_sum',\n",
              "       '주차_42주_sum', '주차_43주_sum', '주차_46주_sum', '주차_47주_sum',\n",
              "       '주차_49주_sum', '주차_50주_sum', '주차_51주_sum', '주차_1주_max', '주차_2주_max',\n",
              "       '주차_5주_max', '주차_14주_max', '주차_15주_max', '주차_17주_max',\n",
              "       '주차_19주_max', '주차_21주_max', '주차_22주_max', '주차_23주_max',\n",
              "       '주차_24주_max', '주차_25주_max', '주차_26주_max', '주차_27주_max',\n",
              "       '주차_28주_max', '주차_29주_max', '주차_35주_max', '주차_36주_max',\n",
              "       '주차_39주_max', '주차_40주_max', '주차_41주_max', '주차_42주_max',\n",
              "       '주차_43주_max', '주차_46주_max', '주차_47주_max', '주차_49주_max',\n",
              "       '주차_50주_max', '주차_51주_max', '주차_21주_min', '월별_구매총액_1', '월별_구매총액_2',\n",
              "       '월별_구매총액_3', '월별_구매총액_4', '월별_구매총액_5', '월별_구매총액_6', '월별_구매총액_7',\n",
              "       '월별_구매총액_8', '월별_구매총액_9', '월별_구매총액_10', '월별_구매총액_11', '월별_구매총액_12',\n",
              "       '수정_중분류_nunique', 'pivot_cnt_가정잡화', 'pivot_cnt_건강식품',\n",
              "       'pivot_cnt_건식품', 'pivot_cnt_건어물', 'pivot_cnt_곡물',\n",
              "       'pivot_cnt_골프(LC)', 'pivot_cnt_골프(NB)', 'pivot_cnt_골프(국내)',\n",
              "       'pivot_cnt_골프(수입)', 'pivot_cnt_골프단품', 'pivot_cnt_골프웨어',\n",
              "       'pivot_cnt_과자', 'pivot_cnt_과자류', 'pivot_cnt_기타식품', 'pivot_cnt_내셔날',\n",
              "       'pivot_cnt_내셔널', 'pivot_cnt_냉난방', 'pivot_cnt_냉동식품',\n",
              "       'pivot_cnt_냉장식품', 'pivot_cnt_뉴베이직캐주얼', 'pivot_cnt_니트',\n",
              "       'pivot_cnt_단품', 'pivot_cnt_드레스구두', 'pivot_cnt_디자이너니트',\n",
              "       'pivot_cnt_라이센스', 'pivot_cnt_로얄부틱2F', 'pivot_cnt_로얄수입행사',\n",
              "       'pivot_cnt_면류', 'pivot_cnt_문화', 'pivot_cnt_부띠끄', 'pivot_cnt_색조화장품',\n",
              "       'pivot_cnt_생선', 'pivot_cnt_셔츠', 'pivot_cnt_수예', 'pivot_cnt_수예행사',\n",
              "       'pivot_cnt_수입구두', 'pivot_cnt_수입도자기', 'pivot_cnt_수입부띠끄',\n",
              "       'pivot_cnt_슈즈', 'pivot_cnt_스포츠단품', 'pivot_cnt_스포츠슈즈',\n",
              "       'pivot_cnt_스포츠웨어', 'pivot_cnt_싸롱화', 'pivot_cnt_아동',\n",
              "       'pivot_cnt_아동복', 'pivot_cnt_아동특선', 'pivot_cnt_야채', 'pivot_cnt_양말',\n",
              "       'pivot_cnt_엘레강스', 'pivot_cnt_완구', 'pivot_cnt_욕실용품',\n",
              "       'pivot_cnt_용기보증', 'pivot_cnt_유아', 'pivot_cnt_음료',\n",
              "       'pivot_cnt_인스탄트식품', 'pivot_cnt_일반조리', 'pivot_cnt_일용잡화',\n",
              "       'pivot_cnt_임대골프', 'pivot_cnt_정육', 'pivot_cnt_조미료',\n",
              "       'pivot_cnt_주방용품', 'pivot_cnt_즉석조리', 'pivot_cnt_진캐쥬얼',\n",
              "       'pivot_cnt_진케주얼', 'pivot_cnt_청과', 'pivot_cnt_초도자기',\n",
              "       'pivot_cnt_취사소형', 'pivot_cnt_침구', 'pivot_cnt_크리스탈',\n",
              "       'pivot_cnt_타운단품', 'pivot_cnt_통병조림', 'pivot_cnt_트래디셔널',\n",
              "       'pivot_cnt_트래디셔널캐쥬얼', 'pivot_브랜드코드수_지점A144000',\n",
              "       'pivot_브랜드코드수_지점A202000', 'pivot_브랜드코드수_지점A373000',\n",
              "       'pivot_금액합_지점A144000', 'pivot_금액합_지점A202000',\n",
              "       'pivot_금액합_지점A373000', '대_pivot_cnt가정용품', '대_pivot_cnt가정용품파트',\n",
              "       '대_pivot_cnt골프_유니캐쥬얼', '대_pivot_cnt공산품', '대_pivot_cnt공산품파트',\n",
              "       '대_pivot_cnt남성의류', '대_pivot_cnt남성정장스포츠', '대_pivot_cnt로얄부띠끄',\n",
              "       '대_pivot_cnt생식품', '대_pivot_cnt생식품파트', '대_pivot_cnt스포츠캐쥬얼',\n",
              "       '대_pivot_cnt아동', '대_pivot_cnt아동_스포츠', '대_pivot_cnt아동문화',\n",
              "       '대_pivot_cnt여성의류파트', '대_pivot_cnt여성정장', '대_pivot_cnt여성캐쥬얼',\n",
              "       '대_pivot_cnt영캐릭터', '대_pivot_cnt영플라자', '대_pivot_cnt잡화파트',\n",
              "       '대_pivot_cnt케주얼_구두_아동', '대_pivot_cnt패션잡화', 'pivot_방문횟수_A144000',\n",
              "       'pivot_방문횟수_A202000', 'pivot_방문횟수_A373000', '수정_중_pivot_cnt_가정잡화',\n",
              "       '수정_중_pivot_cnt_건강식품', '수정_중_pivot_cnt_건식품', '수정_중_pivot_cnt_곡물',\n",
              "       '수정_중_pivot_cnt_골프(LC)', '수정_중_pivot_cnt_골프(NB)',\n",
              "       '수정_중_pivot_cnt_골프(국내)', '수정_중_pivot_cnt_골프(수입)',\n",
              "       '수정_중_pivot_cnt_골프단품', '수정_중_pivot_cnt_골프웨어', '수정_중_pivot_cnt_과자류',\n",
              "       '수정_중_pivot_cnt_기타식품', '수정_중_pivot_cnt_내셔날', '수정_중_pivot_cnt_냉난방',\n",
              "       '수정_중_pivot_cnt_냉동식품', '수정_중_pivot_cnt_냉장식품',\n",
              "       '수정_중_pivot_cnt_뉴베이직캐주얼', '수정_중_pivot_cnt_니트', '수정_중_pivot_cnt_단품',\n",
              "       '수정_중_pivot_cnt_드레스구두', '수정_중_pivot_cnt_디자이너니트',\n",
              "       '수정_중_pivot_cnt_라이센스', '수정_중_pivot_cnt_로얄부틱2F',\n",
              "       '수정_중_pivot_cnt_로얄수입행사', '수정_중_pivot_cnt_면류', '수정_중_pivot_cnt_문구',\n",
              "       '수정_중_pivot_cnt_문화', '수정_중_pivot_cnt_부띠끄', '수정_중_pivot_cnt_색조화장품',\n",
              "       '수정_중_pivot_cnt_생선', '수정_중_pivot_cnt_셔츠', '수정_중_pivot_cnt_소형가구',\n",
              "       '수정_중_pivot_cnt_수예', '수정_중_pivot_cnt_수예행사', '수정_중_pivot_cnt_수입구두',\n",
              "       '수정_중_pivot_cnt_수입도자기', '수정_중_pivot_cnt_수입부띠끄',\n",
              "       '수정_중_pivot_cnt_슈즈', '수정_중_pivot_cnt_스포츠단품',\n",
              "       '수정_중_pivot_cnt_스포츠슈즈', '수정_중_pivot_cnt_스포츠웨어',\n",
              "       '수정_중_pivot_cnt_싸롱화', '수정_중_pivot_cnt_아동', '수정_중_pivot_cnt_아동복',\n",
              "       '수정_중_pivot_cnt_아동특선', '수정_중_pivot_cnt_야채', '수정_중_pivot_cnt_양말',\n",
              "       '수정_중_pivot_cnt_엘레강스', '수정_중_pivot_cnt_엘레강스부틱',\n",
              "       '수정_중_pivot_cnt_완구', '수정_중_pivot_cnt_욕실용품', '수정_중_pivot_cnt_용기보증',\n",
              "       '수정_중_pivot_cnt_음료', '수정_중_pivot_cnt_인스탄트식품',\n",
              "       '수정_중_pivot_cnt_일반조리', '수정_중_pivot_cnt_일용잡화',\n",
              "       '수정_중_pivot_cnt_임대골프', '수정_중_pivot_cnt_정육', '수정_중_pivot_cnt_조미료',\n",
              "       '수정_중_pivot_cnt_주방용품', '수정_중_pivot_cnt_즉석조리',\n",
              "       '수정_중_pivot_cnt_진캐주얼', '수정_중_pivot_cnt_청과', '수정_중_pivot_cnt_초도자기',\n",
              "       '수정_중_pivot_cnt_침구', '수정_중_pivot_cnt_크리스탈', '수정_중_pivot_cnt_타운웨어',\n",
              "       '수정_중_pivot_cnt_통병조림', '수정_중_pivot_cnt_트래디셔널', '아동카테고리_구입',\n",
              "       '행사키워드_구매가격합', '최소구매액_bin', '중분류_nunique_bin', '최소구매액_중분류수_1_4',\n",
              "       '최소구매액_중분류수_2_1', '최소구매액_중분류수_2_2', '최소구매액_중분류수_2_4',\n",
              "       '최소구매액_중분류수_3_4', '최소구매액_중분류수_4_1', '가족단위_구매비율', '중분류별_구매횟수_std',\n",
              "       '중분류별_구매횟수_skew', '중분류별_구매횟수_kurt', '수정_중분류별_구매횟수_std',\n",
              "       '수정_중분류별_구매횟수_skew', '수정_중분류별_구매횟수_kurt', '대분류별_구매횟수_std',\n",
              "       '대분류별_구매횟수_skew', '대분류별_구매횟수_kurt', '주구매지점_1', '주구매지점_2',\n",
              "       '주구매지점_4', '주구매_대분류_2', '주구매_대분류_3', '주구매_대분류_8', '주구매_대분류_9',\n",
              "       '주구매_대분류_11', '주구매_대분류_12', '주구매_대분류_18', '주구매_대분류_23',\n",
              "       '최소구매액_대분류_3', '최소구매액_대분류_5', '최소구매액_대분류_10', '최소구매액_대분류_11',\n",
              "       '최소구매액_대분류_15', '최대구매액_대분류_2', '최대구매액_대분류_6', '최대구매액_대분류_7',\n",
              "       '최대구매액_대분류_8', '최대구매액_대분류_9', '최대구매액_대분류_15', '최대구매액_대분류_18',\n",
              "       '주구매_중분류_cnt', '주구매_수정_중분류_cnt'], dtype=object)"
            ]
          },
          "metadata": {},
          "execution_count": 1304
        }
      ]
    },
    {
      "cell_type": "code",
      "source": [
        "train_tmp = train_ft[best_cols]\n",
        "train_tmp.head()"
      ],
      "metadata": {
        "colab": {
          "base_uri": "https://localhost:8080/",
          "height": 307
        },
        "id": "9JyhEzdkWNuO",
        "outputId": "b3cd265a-4f69-49dc-c604-2960af20ec53"
      },
      "execution_count": 1305,
      "outputs": [
        {
          "output_type": "execute_result",
          "data": {
            "text/plain": [
              "       구매횟수      내점일수      구매주기   여름_구매비율   겨울_구매비율  일별평균구매건수     거래개월수  \\\n",
              "0 -0.437126 -0.369867  0.002987  0.001191  0.338186 -0.057297  0.017620   \n",
              "1  0.239394  0.144110 -0.356452 -0.390607 -0.552996  0.222706  1.176010   \n",
              "2  1.890101  1.943028 -0.869935 -0.514333 -0.059266  0.277707  1.465608   \n",
              "3  4.298510  3.793345 -1.023980 -0.327474 -0.135636  0.674668  1.465608   \n",
              "4  0.618244  0.452496 -0.613193  1.707410 -0.821561  0.679008  0.886413   \n",
              "\n",
              "   12시이전구매비율  12시이후_18시이전구매비율  18시이후구매비율  ...  최소구매액_대분류_15  최대구매액_대분류_2  \\\n",
              "0   0.718557        -0.654150   0.071084  ...     -0.304802    -0.290815   \n",
              "1   0.269465        -0.542415   0.332492  ...     -0.304802     3.438609   \n",
              "2  -0.209830         0.532172  -0.371936  ...     -0.304802    -0.290815   \n",
              "3  -0.009001         0.054536  -0.048595  ...     -0.304802    -0.290815   \n",
              "4  -0.346226         0.591326  -0.318500  ...     -0.304802    -0.290815   \n",
              "\n",
              "   최대구매액_대분류_6  최대구매액_대분류_7  최대구매액_대분류_8  최대구매액_대분류_9  최대구매액_대분류_15  \\\n",
              "0    -0.288099    -0.168611    -0.292437    -0.187233     -0.301907   \n",
              "1    -0.288099    -0.168611    -0.292437    -0.187233     -0.301907   \n",
              "2    -0.288099    -0.168611    -0.292437    -0.187233     -0.301907   \n",
              "3    -0.288099    -0.168611    -0.292437    -0.187233     -0.301907   \n",
              "4    -0.288099    -0.168611    -0.292437    -0.187233     -0.301907   \n",
              "\n",
              "   최대구매액_대분류_18  주구매_중분류_cnt  주구매_수정_중분류_cnt  \n",
              "0      -0.17963    -0.726970       -0.763996  \n",
              "1      -0.17963    -0.510078       -0.467002  \n",
              "2      -0.17963    -0.848408       -0.888034  \n",
              "3      -0.17963     1.523851        1.535081  \n",
              "4      -0.17963    -0.833157       -0.872893  \n",
              "\n",
              "[5 rows x 500 columns]"
            ],
            "text/html": [
              "\n",
              "  <div id=\"df-363c5582-29d2-40c1-8241-0b5b4f411d80\" class=\"colab-df-container\">\n",
              "    <div>\n",
              "<style scoped>\n",
              "    .dataframe tbody tr th:only-of-type {\n",
              "        vertical-align: middle;\n",
              "    }\n",
              "\n",
              "    .dataframe tbody tr th {\n",
              "        vertical-align: top;\n",
              "    }\n",
              "\n",
              "    .dataframe thead th {\n",
              "        text-align: right;\n",
              "    }\n",
              "</style>\n",
              "<table border=\"1\" class=\"dataframe\">\n",
              "  <thead>\n",
              "    <tr style=\"text-align: right;\">\n",
              "      <th></th>\n",
              "      <th>구매횟수</th>\n",
              "      <th>내점일수</th>\n",
              "      <th>구매주기</th>\n",
              "      <th>여름_구매비율</th>\n",
              "      <th>겨울_구매비율</th>\n",
              "      <th>일별평균구매건수</th>\n",
              "      <th>거래개월수</th>\n",
              "      <th>12시이전구매비율</th>\n",
              "      <th>12시이후_18시이전구매비율</th>\n",
              "      <th>18시이후구매비율</th>\n",
              "      <th>...</th>\n",
              "      <th>최소구매액_대분류_15</th>\n",
              "      <th>최대구매액_대분류_2</th>\n",
              "      <th>최대구매액_대분류_6</th>\n",
              "      <th>최대구매액_대분류_7</th>\n",
              "      <th>최대구매액_대분류_8</th>\n",
              "      <th>최대구매액_대분류_9</th>\n",
              "      <th>최대구매액_대분류_15</th>\n",
              "      <th>최대구매액_대분류_18</th>\n",
              "      <th>주구매_중분류_cnt</th>\n",
              "      <th>주구매_수정_중분류_cnt</th>\n",
              "    </tr>\n",
              "  </thead>\n",
              "  <tbody>\n",
              "    <tr>\n",
              "      <th>0</th>\n",
              "      <td>-0.437126</td>\n",
              "      <td>-0.369867</td>\n",
              "      <td>0.002987</td>\n",
              "      <td>0.001191</td>\n",
              "      <td>0.338186</td>\n",
              "      <td>-0.057297</td>\n",
              "      <td>0.017620</td>\n",
              "      <td>0.718557</td>\n",
              "      <td>-0.654150</td>\n",
              "      <td>0.071084</td>\n",
              "      <td>...</td>\n",
              "      <td>-0.304802</td>\n",
              "      <td>-0.290815</td>\n",
              "      <td>-0.288099</td>\n",
              "      <td>-0.168611</td>\n",
              "      <td>-0.292437</td>\n",
              "      <td>-0.187233</td>\n",
              "      <td>-0.301907</td>\n",
              "      <td>-0.17963</td>\n",
              "      <td>-0.726970</td>\n",
              "      <td>-0.763996</td>\n",
              "    </tr>\n",
              "    <tr>\n",
              "      <th>1</th>\n",
              "      <td>0.239394</td>\n",
              "      <td>0.144110</td>\n",
              "      <td>-0.356452</td>\n",
              "      <td>-0.390607</td>\n",
              "      <td>-0.552996</td>\n",
              "      <td>0.222706</td>\n",
              "      <td>1.176010</td>\n",
              "      <td>0.269465</td>\n",
              "      <td>-0.542415</td>\n",
              "      <td>0.332492</td>\n",
              "      <td>...</td>\n",
              "      <td>-0.304802</td>\n",
              "      <td>3.438609</td>\n",
              "      <td>-0.288099</td>\n",
              "      <td>-0.168611</td>\n",
              "      <td>-0.292437</td>\n",
              "      <td>-0.187233</td>\n",
              "      <td>-0.301907</td>\n",
              "      <td>-0.17963</td>\n",
              "      <td>-0.510078</td>\n",
              "      <td>-0.467002</td>\n",
              "    </tr>\n",
              "    <tr>\n",
              "      <th>2</th>\n",
              "      <td>1.890101</td>\n",
              "      <td>1.943028</td>\n",
              "      <td>-0.869935</td>\n",
              "      <td>-0.514333</td>\n",
              "      <td>-0.059266</td>\n",
              "      <td>0.277707</td>\n",
              "      <td>1.465608</td>\n",
              "      <td>-0.209830</td>\n",
              "      <td>0.532172</td>\n",
              "      <td>-0.371936</td>\n",
              "      <td>...</td>\n",
              "      <td>-0.304802</td>\n",
              "      <td>-0.290815</td>\n",
              "      <td>-0.288099</td>\n",
              "      <td>-0.168611</td>\n",
              "      <td>-0.292437</td>\n",
              "      <td>-0.187233</td>\n",
              "      <td>-0.301907</td>\n",
              "      <td>-0.17963</td>\n",
              "      <td>-0.848408</td>\n",
              "      <td>-0.888034</td>\n",
              "    </tr>\n",
              "    <tr>\n",
              "      <th>3</th>\n",
              "      <td>4.298510</td>\n",
              "      <td>3.793345</td>\n",
              "      <td>-1.023980</td>\n",
              "      <td>-0.327474</td>\n",
              "      <td>-0.135636</td>\n",
              "      <td>0.674668</td>\n",
              "      <td>1.465608</td>\n",
              "      <td>-0.009001</td>\n",
              "      <td>0.054536</td>\n",
              "      <td>-0.048595</td>\n",
              "      <td>...</td>\n",
              "      <td>-0.304802</td>\n",
              "      <td>-0.290815</td>\n",
              "      <td>-0.288099</td>\n",
              "      <td>-0.168611</td>\n",
              "      <td>-0.292437</td>\n",
              "      <td>-0.187233</td>\n",
              "      <td>-0.301907</td>\n",
              "      <td>-0.17963</td>\n",
              "      <td>1.523851</td>\n",
              "      <td>1.535081</td>\n",
              "    </tr>\n",
              "    <tr>\n",
              "      <th>4</th>\n",
              "      <td>0.618244</td>\n",
              "      <td>0.452496</td>\n",
              "      <td>-0.613193</td>\n",
              "      <td>1.707410</td>\n",
              "      <td>-0.821561</td>\n",
              "      <td>0.679008</td>\n",
              "      <td>0.886413</td>\n",
              "      <td>-0.346226</td>\n",
              "      <td>0.591326</td>\n",
              "      <td>-0.318500</td>\n",
              "      <td>...</td>\n",
              "      <td>-0.304802</td>\n",
              "      <td>-0.290815</td>\n",
              "      <td>-0.288099</td>\n",
              "      <td>-0.168611</td>\n",
              "      <td>-0.292437</td>\n",
              "      <td>-0.187233</td>\n",
              "      <td>-0.301907</td>\n",
              "      <td>-0.17963</td>\n",
              "      <td>-0.833157</td>\n",
              "      <td>-0.872893</td>\n",
              "    </tr>\n",
              "  </tbody>\n",
              "</table>\n",
              "<p>5 rows × 500 columns</p>\n",
              "</div>\n",
              "    <div class=\"colab-df-buttons\">\n",
              "\n",
              "  <div class=\"colab-df-container\">\n",
              "    <button class=\"colab-df-convert\" onclick=\"convertToInteractive('df-363c5582-29d2-40c1-8241-0b5b4f411d80')\"\n",
              "            title=\"Convert this dataframe to an interactive table.\"\n",
              "            style=\"display:none;\">\n",
              "\n",
              "  <svg xmlns=\"http://www.w3.org/2000/svg\" height=\"24px\" viewBox=\"0 -960 960 960\">\n",
              "    <path d=\"M120-120v-720h720v720H120Zm60-500h600v-160H180v160Zm220 220h160v-160H400v160Zm0 220h160v-160H400v160ZM180-400h160v-160H180v160Zm440 0h160v-160H620v160ZM180-180h160v-160H180v160Zm440 0h160v-160H620v160Z\"/>\n",
              "  </svg>\n",
              "    </button>\n",
              "\n",
              "  <style>\n",
              "    .colab-df-container {\n",
              "      display:flex;\n",
              "      gap: 12px;\n",
              "    }\n",
              "\n",
              "    .colab-df-convert {\n",
              "      background-color: #E8F0FE;\n",
              "      border: none;\n",
              "      border-radius: 50%;\n",
              "      cursor: pointer;\n",
              "      display: none;\n",
              "      fill: #1967D2;\n",
              "      height: 32px;\n",
              "      padding: 0 0 0 0;\n",
              "      width: 32px;\n",
              "    }\n",
              "\n",
              "    .colab-df-convert:hover {\n",
              "      background-color: #E2EBFA;\n",
              "      box-shadow: 0px 1px 2px rgba(60, 64, 67, 0.3), 0px 1px 3px 1px rgba(60, 64, 67, 0.15);\n",
              "      fill: #174EA6;\n",
              "    }\n",
              "\n",
              "    .colab-df-buttons div {\n",
              "      margin-bottom: 4px;\n",
              "    }\n",
              "\n",
              "    [theme=dark] .colab-df-convert {\n",
              "      background-color: #3B4455;\n",
              "      fill: #D2E3FC;\n",
              "    }\n",
              "\n",
              "    [theme=dark] .colab-df-convert:hover {\n",
              "      background-color: #434B5C;\n",
              "      box-shadow: 0px 1px 3px 1px rgba(0, 0, 0, 0.15);\n",
              "      filter: drop-shadow(0px 1px 2px rgba(0, 0, 0, 0.3));\n",
              "      fill: #FFFFFF;\n",
              "    }\n",
              "  </style>\n",
              "\n",
              "    <script>\n",
              "      const buttonEl =\n",
              "        document.querySelector('#df-363c5582-29d2-40c1-8241-0b5b4f411d80 button.colab-df-convert');\n",
              "      buttonEl.style.display =\n",
              "        google.colab.kernel.accessAllowed ? 'block' : 'none';\n",
              "\n",
              "      async function convertToInteractive(key) {\n",
              "        const element = document.querySelector('#df-363c5582-29d2-40c1-8241-0b5b4f411d80');\n",
              "        const dataTable =\n",
              "          await google.colab.kernel.invokeFunction('convertToInteractive',\n",
              "                                                    [key], {});\n",
              "        if (!dataTable) return;\n",
              "\n",
              "        const docLinkHtml = 'Like what you see? Visit the ' +\n",
              "          '<a target=\"_blank\" href=https://colab.research.google.com/notebooks/data_table.ipynb>data table notebook</a>'\n",
              "          + ' to learn more about interactive tables.';\n",
              "        element.innerHTML = '';\n",
              "        dataTable['output_type'] = 'display_data';\n",
              "        await google.colab.output.renderOutput(dataTable, element);\n",
              "        const docLink = document.createElement('div');\n",
              "        docLink.innerHTML = docLinkHtml;\n",
              "        element.appendChild(docLink);\n",
              "      }\n",
              "    </script>\n",
              "  </div>\n",
              "\n",
              "\n",
              "<div id=\"df-6ff82a89-0aa3-4b1e-a76c-ec91a7b1f249\">\n",
              "  <button class=\"colab-df-quickchart\" onclick=\"quickchart('df-6ff82a89-0aa3-4b1e-a76c-ec91a7b1f249')\"\n",
              "            title=\"Suggest charts\"\n",
              "            style=\"display:none;\">\n",
              "\n",
              "<svg xmlns=\"http://www.w3.org/2000/svg\" height=\"24px\"viewBox=\"0 0 24 24\"\n",
              "     width=\"24px\">\n",
              "    <g>\n",
              "        <path d=\"M19 3H5c-1.1 0-2 .9-2 2v14c0 1.1.9 2 2 2h14c1.1 0 2-.9 2-2V5c0-1.1-.9-2-2-2zM9 17H7v-7h2v7zm4 0h-2V7h2v10zm4 0h-2v-4h2v4z\"/>\n",
              "    </g>\n",
              "</svg>\n",
              "  </button>\n",
              "\n",
              "<style>\n",
              "  .colab-df-quickchart {\n",
              "      --bg-color: #E8F0FE;\n",
              "      --fill-color: #1967D2;\n",
              "      --hover-bg-color: #E2EBFA;\n",
              "      --hover-fill-color: #174EA6;\n",
              "      --disabled-fill-color: #AAA;\n",
              "      --disabled-bg-color: #DDD;\n",
              "  }\n",
              "\n",
              "  [theme=dark] .colab-df-quickchart {\n",
              "      --bg-color: #3B4455;\n",
              "      --fill-color: #D2E3FC;\n",
              "      --hover-bg-color: #434B5C;\n",
              "      --hover-fill-color: #FFFFFF;\n",
              "      --disabled-bg-color: #3B4455;\n",
              "      --disabled-fill-color: #666;\n",
              "  }\n",
              "\n",
              "  .colab-df-quickchart {\n",
              "    background-color: var(--bg-color);\n",
              "    border: none;\n",
              "    border-radius: 50%;\n",
              "    cursor: pointer;\n",
              "    display: none;\n",
              "    fill: var(--fill-color);\n",
              "    height: 32px;\n",
              "    padding: 0;\n",
              "    width: 32px;\n",
              "  }\n",
              "\n",
              "  .colab-df-quickchart:hover {\n",
              "    background-color: var(--hover-bg-color);\n",
              "    box-shadow: 0 1px 2px rgba(60, 64, 67, 0.3), 0 1px 3px 1px rgba(60, 64, 67, 0.15);\n",
              "    fill: var(--button-hover-fill-color);\n",
              "  }\n",
              "\n",
              "  .colab-df-quickchart-complete:disabled,\n",
              "  .colab-df-quickchart-complete:disabled:hover {\n",
              "    background-color: var(--disabled-bg-color);\n",
              "    fill: var(--disabled-fill-color);\n",
              "    box-shadow: none;\n",
              "  }\n",
              "\n",
              "  .colab-df-spinner {\n",
              "    border: 2px solid var(--fill-color);\n",
              "    border-color: transparent;\n",
              "    border-bottom-color: var(--fill-color);\n",
              "    animation:\n",
              "      spin 1s steps(1) infinite;\n",
              "  }\n",
              "\n",
              "  @keyframes spin {\n",
              "    0% {\n",
              "      border-color: transparent;\n",
              "      border-bottom-color: var(--fill-color);\n",
              "      border-left-color: var(--fill-color);\n",
              "    }\n",
              "    20% {\n",
              "      border-color: transparent;\n",
              "      border-left-color: var(--fill-color);\n",
              "      border-top-color: var(--fill-color);\n",
              "    }\n",
              "    30% {\n",
              "      border-color: transparent;\n",
              "      border-left-color: var(--fill-color);\n",
              "      border-top-color: var(--fill-color);\n",
              "      border-right-color: var(--fill-color);\n",
              "    }\n",
              "    40% {\n",
              "      border-color: transparent;\n",
              "      border-right-color: var(--fill-color);\n",
              "      border-top-color: var(--fill-color);\n",
              "    }\n",
              "    60% {\n",
              "      border-color: transparent;\n",
              "      border-right-color: var(--fill-color);\n",
              "    }\n",
              "    80% {\n",
              "      border-color: transparent;\n",
              "      border-right-color: var(--fill-color);\n",
              "      border-bottom-color: var(--fill-color);\n",
              "    }\n",
              "    90% {\n",
              "      border-color: transparent;\n",
              "      border-bottom-color: var(--fill-color);\n",
              "    }\n",
              "  }\n",
              "</style>\n",
              "\n",
              "  <script>\n",
              "    async function quickchart(key) {\n",
              "      const quickchartButtonEl =\n",
              "        document.querySelector('#' + key + ' button');\n",
              "      quickchartButtonEl.disabled = true;  // To prevent multiple clicks.\n",
              "      quickchartButtonEl.classList.add('colab-df-spinner');\n",
              "      try {\n",
              "        const charts = await google.colab.kernel.invokeFunction(\n",
              "            'suggestCharts', [key], {});\n",
              "      } catch (error) {\n",
              "        console.error('Error during call to suggestCharts:', error);\n",
              "      }\n",
              "      quickchartButtonEl.classList.remove('colab-df-spinner');\n",
              "      quickchartButtonEl.classList.add('colab-df-quickchart-complete');\n",
              "    }\n",
              "    (() => {\n",
              "      let quickchartButtonEl =\n",
              "        document.querySelector('#df-6ff82a89-0aa3-4b1e-a76c-ec91a7b1f249 button');\n",
              "      quickchartButtonEl.style.display =\n",
              "        google.colab.kernel.accessAllowed ? 'block' : 'none';\n",
              "    })();\n",
              "  </script>\n",
              "</div>\n",
              "\n",
              "    </div>\n",
              "  </div>\n"
            ],
            "application/vnd.google.colaboratory.intrinsic+json": {
              "type": "dataframe",
              "variable_name": "train_tmp"
            }
          },
          "metadata": {},
          "execution_count": 1305
        }
      ]
    },
    {
      "cell_type": "code",
      "source": [
        "model = LGBMClassifier(random_state=SEED)\n",
        "scores = cross_val_score(model,train_tmp,target,cv = cv ,scoring='f1_macro',n_jobs = -1)\n",
        "np.mean(scores)"
      ],
      "metadata": {
        "colab": {
          "base_uri": "https://localhost:8080/"
        },
        "id": "9O_mZyKBWPxu",
        "outputId": "fbe22a61-ec95-4f95-cd10-18888c96f453"
      },
      "execution_count": 1306,
      "outputs": [
        {
          "output_type": "execute_result",
          "data": {
            "text/plain": [
              "0.7088537922931876"
            ]
          },
          "metadata": {},
          "execution_count": 1306
        }
      ]
    },
    {
      "cell_type": "markdown",
      "source": [
        "## SelectPercentile"
      ],
      "metadata": {
        "id": "m8esnmUVV8rB"
      }
    },
    {
      "cell_type": "code",
      "source": [
        "sp = SelectPercentile(percentile=10) # 상위 10% 피처 선택\n",
        "x = sp.fit_transform(train_ft, target)\n",
        "scores = cross_val_score(model, x, target, cv=cv, scoring=\"f1_macro\", n_jobs=-1)\n",
        "scores.mean()"
      ],
      "metadata": {
        "colab": {
          "base_uri": "https://localhost:8080/"
        },
        "id": "OW5ver8BV_nP",
        "outputId": "1fb2b9d1-c207-4522-d2f7-01364017687e"
      },
      "execution_count": 1361,
      "outputs": [
        {
          "output_type": "execute_result",
          "data": {
            "text/plain": [
              "0.7008831973461165"
            ]
          },
          "metadata": {},
          "execution_count": 1361
        }
      ]
    },
    {
      "cell_type": "code",
      "source": [
        "best_cols = sp.get_feature_names_out()\n",
        "best_cols"
      ],
      "metadata": {
        "colab": {
          "base_uri": "https://localhost:8080/"
        },
        "id": "B5tSZEGNWQjX",
        "outputId": "17ba8b03-c2e6-4977-912c-196761025446"
      },
      "execution_count": 1362,
      "outputs": [
        {
          "output_type": "execute_result",
          "data": {
            "text/plain": [
              "array(['구매횟수', '내점일수', '일별평균구매건수', '거래개월수', '12시이전구매비율',\n",
              "       '12시이후_18시이전구매비율', '18시이후구매비율', '평일_18시_구매비율', '12시이전구매횟수',\n",
              "       '12시이후_18시이전구매횟수', '방문평균거래평균횟수', '일별최대구매횟수', '일별평균구매횟수',\n",
              "       '일별구매횟수표준편차', '목요일방문비율', '거래주수', '거래기간일수', '구매월요일cnt', '구매화요일cnt',\n",
              "       '구매수요일cnt', '구매금요일cnt', '구매토요일cnt', '구매일요일cnt', '주구매시간', '추석전후구매',\n",
              "       '많은_거래개월수', '적은_거래개월수', '구매주기짧고_거래개월많음', '많은_내점일수', '적은_내점일수',\n",
              "       '구매주기짧고_내점일수많음', '3회이상count', '중분류_nunique', '중분류_아동_cnt', '골프유무',\n",
              "       '골프count', '유아관련유무', '유아관련count', '대분류_nunique', '대분류_아동_cnt',\n",
              "       '대_주구매비율', '대분류_여성_cnt', '대분류_남성_cnt', '대분류_생식품_cnt', '남_여모두구매',\n",
              "       '총_생식품_구매가격', '총구매액', '구매건수', '최대구매액', '환불건수', '구매금액왜도', '구매금액첨도',\n",
              "       '최대구매액 - 최소구매액', '같은가격재구매횟수', '같은중분류재구매횟수', '반복중분류비율', '실제구매횟수',\n",
              "       '거래개월대비구매비용', '거래개월대비구매횟수', '2004-05월_count', '2004-06월_count',\n",
              "       '2004-07월_count', '2004-08월_count', '2004-09월_count',\n",
              "       '2004-10월_count', '2004-11월_count', '2004-12월_count',\n",
              "       '2005-01월_count', '2005-04월_count', '2004-05월_sum', '2004-06월_sum',\n",
              "       '2004-07월_sum', '2004-10월_sum', '주차_20주_count', '주차_21주_count',\n",
              "       '주차_23주_count', '주차_24주_count', '주차_26주_count', '주차_28주_count',\n",
              "       '주차_29주_count', '주차_30주_count', '주차_41주_count', '월별_구매총액_5',\n",
              "       '월별_구매총액_6', '월별_구매총액_7', '월별_구매총액_10', '수정_중분류_nunique',\n",
              "       'pivot_cnt_냉장식품', 'pivot_cnt_생선', 'pivot_cnt_셔츠', 'pivot_cnt_아동',\n",
              "       'pivot_cnt_야채', 'pivot_cnt_용기보증', 'pivot_cnt_주방용품', 'pivot_cnt_청과',\n",
              "       'pivot_브랜드코드수_지점A144000', 'pivot_금액합_지점A144000', '대_pivot_cnt가정용품',\n",
              "       '대_pivot_cnt가정용품파트', '대_pivot_cnt공산품', '대_pivot_cnt남성정장스포츠',\n",
              "       '대_pivot_cnt생식품', '대_pivot_cnt생식품파트', '대_pivot_cnt스포츠캐쥬얼',\n",
              "       'pivot_방문횟수_A144000', '수정_중_pivot_cnt_냉장식품', '수정_중_pivot_cnt_생선',\n",
              "       '수정_중_pivot_cnt_셔츠', '수정_중_pivot_cnt_아동', '수정_중_pivot_cnt_야채',\n",
              "       '수정_중_pivot_cnt_용기보증', '수정_중_pivot_cnt_주방용품', '수정_중_pivot_cnt_청과',\n",
              "       '중분류_nunique_bin', '가족단위_구매비율', '중분류별_구매횟수_std',\n",
              "       '수정_중분류별_구매횟수_std', '대분류별_구매횟수_std', '대분류별_구매횟수_skew',\n",
              "       '대분류별_구매횟수_kurt', '주구매_대분류_2', '주구매_대분류_8'], dtype=object)"
            ]
          },
          "metadata": {},
          "execution_count": 1362
        }
      ]
    },
    {
      "cell_type": "code",
      "source": [
        "train_tmp = train_ft[best_cols]\n",
        "train_tmp.head()"
      ],
      "metadata": {
        "colab": {
          "base_uri": "https://localhost:8080/",
          "height": 307
        },
        "id": "QsjCwAY-WRQp",
        "outputId": "f57bceaa-8bab-4825-c40b-3ea8124219f7"
      },
      "execution_count": 1363,
      "outputs": [
        {
          "output_type": "execute_result",
          "data": {
            "text/plain": [
              "       구매횟수      내점일수  일별평균구매건수     거래개월수  12시이전구매비율  12시이후_18시이전구매비율  \\\n",
              "0 -0.437126 -0.369867 -0.057297  0.017620   0.718557        -0.654150   \n",
              "1  0.239394  0.144110  0.222706  1.176010   0.269465        -0.542415   \n",
              "2  1.890101  1.943028  0.277707  1.465608  -0.209830         0.532172   \n",
              "3  4.298510  3.793345  0.674668  1.465608  -0.009001         0.054536   \n",
              "4  0.618244  0.452496  0.679008  0.886413  -0.346226         0.591326   \n",
              "\n",
              "   18시이후구매비율  평일_18시_구매비율  12시이전구매횟수  12시이후_18시이전구매횟수  ...  수정_중_pivot_cnt_청과  \\\n",
              "0   0.071084     0.076740  -0.020842        -0.460006  ...          -0.249109   \n",
              "1   0.332492     0.513533   0.231831        -0.046467  ...           0.283322   \n",
              "2  -0.371936    -0.271929   0.652953         2.321984  ...          -0.249109   \n",
              "3  -0.048595    -0.024696   2.337441         4.088923  ...           0.283322   \n",
              "4  -0.318500    -0.531483  -0.020842         0.930989  ...           0.283322   \n",
              "\n",
              "   중분류_nunique_bin  가족단위_구매비율  중분류별_구매횟수_std  수정_중분류별_구매횟수_std  대분류별_구매횟수_std  \\\n",
              "0        -0.420306  -0.328996      -0.115097         -0.121569      -0.377000   \n",
              "1         1.360064  -0.437509      -0.056149         -0.058116      -0.027378   \n",
              "2         1.360064   1.319372       1.463979          1.435398       1.667174   \n",
              "3         1.360064   5.349865       3.483530          3.524919       3.726162   \n",
              "4         1.360064   0.290913       0.547783          0.531968       0.400696   \n",
              "\n",
              "   대분류별_구매횟수_skew  대분류별_구매횟수_kurt  주구매_대분류_2  주구매_대분류_8  \n",
              "0        0.567283        0.663751  -0.235019  -0.319269  \n",
              "1       -0.792691       -0.751426   4.254981  -0.319269  \n",
              "2       -0.400990       -0.514010  -0.235019  -0.319269  \n",
              "3       -0.393535       -0.505595  -0.235019  -0.319269  \n",
              "4       -1.357310       -1.152972  -0.235019  -0.319269  \n",
              "\n",
              "[5 rows x 122 columns]"
            ],
            "text/html": [
              "\n",
              "  <div id=\"df-9a79fa73-be41-4779-ab69-204b8c60e0e3\" class=\"colab-df-container\">\n",
              "    <div>\n",
              "<style scoped>\n",
              "    .dataframe tbody tr th:only-of-type {\n",
              "        vertical-align: middle;\n",
              "    }\n",
              "\n",
              "    .dataframe tbody tr th {\n",
              "        vertical-align: top;\n",
              "    }\n",
              "\n",
              "    .dataframe thead th {\n",
              "        text-align: right;\n",
              "    }\n",
              "</style>\n",
              "<table border=\"1\" class=\"dataframe\">\n",
              "  <thead>\n",
              "    <tr style=\"text-align: right;\">\n",
              "      <th></th>\n",
              "      <th>구매횟수</th>\n",
              "      <th>내점일수</th>\n",
              "      <th>일별평균구매건수</th>\n",
              "      <th>거래개월수</th>\n",
              "      <th>12시이전구매비율</th>\n",
              "      <th>12시이후_18시이전구매비율</th>\n",
              "      <th>18시이후구매비율</th>\n",
              "      <th>평일_18시_구매비율</th>\n",
              "      <th>12시이전구매횟수</th>\n",
              "      <th>12시이후_18시이전구매횟수</th>\n",
              "      <th>...</th>\n",
              "      <th>수정_중_pivot_cnt_청과</th>\n",
              "      <th>중분류_nunique_bin</th>\n",
              "      <th>가족단위_구매비율</th>\n",
              "      <th>중분류별_구매횟수_std</th>\n",
              "      <th>수정_중분류별_구매횟수_std</th>\n",
              "      <th>대분류별_구매횟수_std</th>\n",
              "      <th>대분류별_구매횟수_skew</th>\n",
              "      <th>대분류별_구매횟수_kurt</th>\n",
              "      <th>주구매_대분류_2</th>\n",
              "      <th>주구매_대분류_8</th>\n",
              "    </tr>\n",
              "  </thead>\n",
              "  <tbody>\n",
              "    <tr>\n",
              "      <th>0</th>\n",
              "      <td>-0.437126</td>\n",
              "      <td>-0.369867</td>\n",
              "      <td>-0.057297</td>\n",
              "      <td>0.017620</td>\n",
              "      <td>0.718557</td>\n",
              "      <td>-0.654150</td>\n",
              "      <td>0.071084</td>\n",
              "      <td>0.076740</td>\n",
              "      <td>-0.020842</td>\n",
              "      <td>-0.460006</td>\n",
              "      <td>...</td>\n",
              "      <td>-0.249109</td>\n",
              "      <td>-0.420306</td>\n",
              "      <td>-0.328996</td>\n",
              "      <td>-0.115097</td>\n",
              "      <td>-0.121569</td>\n",
              "      <td>-0.377000</td>\n",
              "      <td>0.567283</td>\n",
              "      <td>0.663751</td>\n",
              "      <td>-0.235019</td>\n",
              "      <td>-0.319269</td>\n",
              "    </tr>\n",
              "    <tr>\n",
              "      <th>1</th>\n",
              "      <td>0.239394</td>\n",
              "      <td>0.144110</td>\n",
              "      <td>0.222706</td>\n",
              "      <td>1.176010</td>\n",
              "      <td>0.269465</td>\n",
              "      <td>-0.542415</td>\n",
              "      <td>0.332492</td>\n",
              "      <td>0.513533</td>\n",
              "      <td>0.231831</td>\n",
              "      <td>-0.046467</td>\n",
              "      <td>...</td>\n",
              "      <td>0.283322</td>\n",
              "      <td>1.360064</td>\n",
              "      <td>-0.437509</td>\n",
              "      <td>-0.056149</td>\n",
              "      <td>-0.058116</td>\n",
              "      <td>-0.027378</td>\n",
              "      <td>-0.792691</td>\n",
              "      <td>-0.751426</td>\n",
              "      <td>4.254981</td>\n",
              "      <td>-0.319269</td>\n",
              "    </tr>\n",
              "    <tr>\n",
              "      <th>2</th>\n",
              "      <td>1.890101</td>\n",
              "      <td>1.943028</td>\n",
              "      <td>0.277707</td>\n",
              "      <td>1.465608</td>\n",
              "      <td>-0.209830</td>\n",
              "      <td>0.532172</td>\n",
              "      <td>-0.371936</td>\n",
              "      <td>-0.271929</td>\n",
              "      <td>0.652953</td>\n",
              "      <td>2.321984</td>\n",
              "      <td>...</td>\n",
              "      <td>-0.249109</td>\n",
              "      <td>1.360064</td>\n",
              "      <td>1.319372</td>\n",
              "      <td>1.463979</td>\n",
              "      <td>1.435398</td>\n",
              "      <td>1.667174</td>\n",
              "      <td>-0.400990</td>\n",
              "      <td>-0.514010</td>\n",
              "      <td>-0.235019</td>\n",
              "      <td>-0.319269</td>\n",
              "    </tr>\n",
              "    <tr>\n",
              "      <th>3</th>\n",
              "      <td>4.298510</td>\n",
              "      <td>3.793345</td>\n",
              "      <td>0.674668</td>\n",
              "      <td>1.465608</td>\n",
              "      <td>-0.009001</td>\n",
              "      <td>0.054536</td>\n",
              "      <td>-0.048595</td>\n",
              "      <td>-0.024696</td>\n",
              "      <td>2.337441</td>\n",
              "      <td>4.088923</td>\n",
              "      <td>...</td>\n",
              "      <td>0.283322</td>\n",
              "      <td>1.360064</td>\n",
              "      <td>5.349865</td>\n",
              "      <td>3.483530</td>\n",
              "      <td>3.524919</td>\n",
              "      <td>3.726162</td>\n",
              "      <td>-0.393535</td>\n",
              "      <td>-0.505595</td>\n",
              "      <td>-0.235019</td>\n",
              "      <td>-0.319269</td>\n",
              "    </tr>\n",
              "    <tr>\n",
              "      <th>4</th>\n",
              "      <td>0.618244</td>\n",
              "      <td>0.452496</td>\n",
              "      <td>0.679008</td>\n",
              "      <td>0.886413</td>\n",
              "      <td>-0.346226</td>\n",
              "      <td>0.591326</td>\n",
              "      <td>-0.318500</td>\n",
              "      <td>-0.531483</td>\n",
              "      <td>-0.020842</td>\n",
              "      <td>0.930989</td>\n",
              "      <td>...</td>\n",
              "      <td>0.283322</td>\n",
              "      <td>1.360064</td>\n",
              "      <td>0.290913</td>\n",
              "      <td>0.547783</td>\n",
              "      <td>0.531968</td>\n",
              "      <td>0.400696</td>\n",
              "      <td>-1.357310</td>\n",
              "      <td>-1.152972</td>\n",
              "      <td>-0.235019</td>\n",
              "      <td>-0.319269</td>\n",
              "    </tr>\n",
              "  </tbody>\n",
              "</table>\n",
              "<p>5 rows × 122 columns</p>\n",
              "</div>\n",
              "    <div class=\"colab-df-buttons\">\n",
              "\n",
              "  <div class=\"colab-df-container\">\n",
              "    <button class=\"colab-df-convert\" onclick=\"convertToInteractive('df-9a79fa73-be41-4779-ab69-204b8c60e0e3')\"\n",
              "            title=\"Convert this dataframe to an interactive table.\"\n",
              "            style=\"display:none;\">\n",
              "\n",
              "  <svg xmlns=\"http://www.w3.org/2000/svg\" height=\"24px\" viewBox=\"0 -960 960 960\">\n",
              "    <path d=\"M120-120v-720h720v720H120Zm60-500h600v-160H180v160Zm220 220h160v-160H400v160Zm0 220h160v-160H400v160ZM180-400h160v-160H180v160Zm440 0h160v-160H620v160ZM180-180h160v-160H180v160Zm440 0h160v-160H620v160Z\"/>\n",
              "  </svg>\n",
              "    </button>\n",
              "\n",
              "  <style>\n",
              "    .colab-df-container {\n",
              "      display:flex;\n",
              "      gap: 12px;\n",
              "    }\n",
              "\n",
              "    .colab-df-convert {\n",
              "      background-color: #E8F0FE;\n",
              "      border: none;\n",
              "      border-radius: 50%;\n",
              "      cursor: pointer;\n",
              "      display: none;\n",
              "      fill: #1967D2;\n",
              "      height: 32px;\n",
              "      padding: 0 0 0 0;\n",
              "      width: 32px;\n",
              "    }\n",
              "\n",
              "    .colab-df-convert:hover {\n",
              "      background-color: #E2EBFA;\n",
              "      box-shadow: 0px 1px 2px rgba(60, 64, 67, 0.3), 0px 1px 3px 1px rgba(60, 64, 67, 0.15);\n",
              "      fill: #174EA6;\n",
              "    }\n",
              "\n",
              "    .colab-df-buttons div {\n",
              "      margin-bottom: 4px;\n",
              "    }\n",
              "\n",
              "    [theme=dark] .colab-df-convert {\n",
              "      background-color: #3B4455;\n",
              "      fill: #D2E3FC;\n",
              "    }\n",
              "\n",
              "    [theme=dark] .colab-df-convert:hover {\n",
              "      background-color: #434B5C;\n",
              "      box-shadow: 0px 1px 3px 1px rgba(0, 0, 0, 0.15);\n",
              "      filter: drop-shadow(0px 1px 2px rgba(0, 0, 0, 0.3));\n",
              "      fill: #FFFFFF;\n",
              "    }\n",
              "  </style>\n",
              "\n",
              "    <script>\n",
              "      const buttonEl =\n",
              "        document.querySelector('#df-9a79fa73-be41-4779-ab69-204b8c60e0e3 button.colab-df-convert');\n",
              "      buttonEl.style.display =\n",
              "        google.colab.kernel.accessAllowed ? 'block' : 'none';\n",
              "\n",
              "      async function convertToInteractive(key) {\n",
              "        const element = document.querySelector('#df-9a79fa73-be41-4779-ab69-204b8c60e0e3');\n",
              "        const dataTable =\n",
              "          await google.colab.kernel.invokeFunction('convertToInteractive',\n",
              "                                                    [key], {});\n",
              "        if (!dataTable) return;\n",
              "\n",
              "        const docLinkHtml = 'Like what you see? Visit the ' +\n",
              "          '<a target=\"_blank\" href=https://colab.research.google.com/notebooks/data_table.ipynb>data table notebook</a>'\n",
              "          + ' to learn more about interactive tables.';\n",
              "        element.innerHTML = '';\n",
              "        dataTable['output_type'] = 'display_data';\n",
              "        await google.colab.output.renderOutput(dataTable, element);\n",
              "        const docLink = document.createElement('div');\n",
              "        docLink.innerHTML = docLinkHtml;\n",
              "        element.appendChild(docLink);\n",
              "      }\n",
              "    </script>\n",
              "  </div>\n",
              "\n",
              "\n",
              "<div id=\"df-24878cc1-e713-4d3a-83c8-d4332a9bc333\">\n",
              "  <button class=\"colab-df-quickchart\" onclick=\"quickchart('df-24878cc1-e713-4d3a-83c8-d4332a9bc333')\"\n",
              "            title=\"Suggest charts\"\n",
              "            style=\"display:none;\">\n",
              "\n",
              "<svg xmlns=\"http://www.w3.org/2000/svg\" height=\"24px\"viewBox=\"0 0 24 24\"\n",
              "     width=\"24px\">\n",
              "    <g>\n",
              "        <path d=\"M19 3H5c-1.1 0-2 .9-2 2v14c0 1.1.9 2 2 2h14c1.1 0 2-.9 2-2V5c0-1.1-.9-2-2-2zM9 17H7v-7h2v7zm4 0h-2V7h2v10zm4 0h-2v-4h2v4z\"/>\n",
              "    </g>\n",
              "</svg>\n",
              "  </button>\n",
              "\n",
              "<style>\n",
              "  .colab-df-quickchart {\n",
              "      --bg-color: #E8F0FE;\n",
              "      --fill-color: #1967D2;\n",
              "      --hover-bg-color: #E2EBFA;\n",
              "      --hover-fill-color: #174EA6;\n",
              "      --disabled-fill-color: #AAA;\n",
              "      --disabled-bg-color: #DDD;\n",
              "  }\n",
              "\n",
              "  [theme=dark] .colab-df-quickchart {\n",
              "      --bg-color: #3B4455;\n",
              "      --fill-color: #D2E3FC;\n",
              "      --hover-bg-color: #434B5C;\n",
              "      --hover-fill-color: #FFFFFF;\n",
              "      --disabled-bg-color: #3B4455;\n",
              "      --disabled-fill-color: #666;\n",
              "  }\n",
              "\n",
              "  .colab-df-quickchart {\n",
              "    background-color: var(--bg-color);\n",
              "    border: none;\n",
              "    border-radius: 50%;\n",
              "    cursor: pointer;\n",
              "    display: none;\n",
              "    fill: var(--fill-color);\n",
              "    height: 32px;\n",
              "    padding: 0;\n",
              "    width: 32px;\n",
              "  }\n",
              "\n",
              "  .colab-df-quickchart:hover {\n",
              "    background-color: var(--hover-bg-color);\n",
              "    box-shadow: 0 1px 2px rgba(60, 64, 67, 0.3), 0 1px 3px 1px rgba(60, 64, 67, 0.15);\n",
              "    fill: var(--button-hover-fill-color);\n",
              "  }\n",
              "\n",
              "  .colab-df-quickchart-complete:disabled,\n",
              "  .colab-df-quickchart-complete:disabled:hover {\n",
              "    background-color: var(--disabled-bg-color);\n",
              "    fill: var(--disabled-fill-color);\n",
              "    box-shadow: none;\n",
              "  }\n",
              "\n",
              "  .colab-df-spinner {\n",
              "    border: 2px solid var(--fill-color);\n",
              "    border-color: transparent;\n",
              "    border-bottom-color: var(--fill-color);\n",
              "    animation:\n",
              "      spin 1s steps(1) infinite;\n",
              "  }\n",
              "\n",
              "  @keyframes spin {\n",
              "    0% {\n",
              "      border-color: transparent;\n",
              "      border-bottom-color: var(--fill-color);\n",
              "      border-left-color: var(--fill-color);\n",
              "    }\n",
              "    20% {\n",
              "      border-color: transparent;\n",
              "      border-left-color: var(--fill-color);\n",
              "      border-top-color: var(--fill-color);\n",
              "    }\n",
              "    30% {\n",
              "      border-color: transparent;\n",
              "      border-left-color: var(--fill-color);\n",
              "      border-top-color: var(--fill-color);\n",
              "      border-right-color: var(--fill-color);\n",
              "    }\n",
              "    40% {\n",
              "      border-color: transparent;\n",
              "      border-right-color: var(--fill-color);\n",
              "      border-top-color: var(--fill-color);\n",
              "    }\n",
              "    60% {\n",
              "      border-color: transparent;\n",
              "      border-right-color: var(--fill-color);\n",
              "    }\n",
              "    80% {\n",
              "      border-color: transparent;\n",
              "      border-right-color: var(--fill-color);\n",
              "      border-bottom-color: var(--fill-color);\n",
              "    }\n",
              "    90% {\n",
              "      border-color: transparent;\n",
              "      border-bottom-color: var(--fill-color);\n",
              "    }\n",
              "  }\n",
              "</style>\n",
              "\n",
              "  <script>\n",
              "    async function quickchart(key) {\n",
              "      const quickchartButtonEl =\n",
              "        document.querySelector('#' + key + ' button');\n",
              "      quickchartButtonEl.disabled = true;  // To prevent multiple clicks.\n",
              "      quickchartButtonEl.classList.add('colab-df-spinner');\n",
              "      try {\n",
              "        const charts = await google.colab.kernel.invokeFunction(\n",
              "            'suggestCharts', [key], {});\n",
              "      } catch (error) {\n",
              "        console.error('Error during call to suggestCharts:', error);\n",
              "      }\n",
              "      quickchartButtonEl.classList.remove('colab-df-spinner');\n",
              "      quickchartButtonEl.classList.add('colab-df-quickchart-complete');\n",
              "    }\n",
              "    (() => {\n",
              "      let quickchartButtonEl =\n",
              "        document.querySelector('#df-24878cc1-e713-4d3a-83c8-d4332a9bc333 button');\n",
              "      quickchartButtonEl.style.display =\n",
              "        google.colab.kernel.accessAllowed ? 'block' : 'none';\n",
              "    })();\n",
              "  </script>\n",
              "</div>\n",
              "\n",
              "    </div>\n",
              "  </div>\n"
            ],
            "application/vnd.google.colaboratory.intrinsic+json": {
              "type": "dataframe",
              "variable_name": "train_tmp"
            }
          },
          "metadata": {},
          "execution_count": 1363
        }
      ]
    },
    {
      "cell_type": "code",
      "source": [
        "model = LGBMClassifier(random_state=SEED)\n",
        "scores = cross_val_score(model,train_tmp,target,cv = cv ,scoring='f1_macro',n_jobs = -1)\n",
        "np.mean(scores)"
      ],
      "metadata": {
        "colab": {
          "base_uri": "https://localhost:8080/"
        },
        "id": "FvfbC2KNWSxU",
        "outputId": "9e598ef3-61d9-44b3-df4f-fe454ca399fc"
      },
      "execution_count": 1364,
      "outputs": [
        {
          "output_type": "execute_result",
          "data": {
            "text/plain": [
              "0.7008831973461165"
            ]
          },
          "metadata": {},
          "execution_count": 1364
        }
      ]
    },
    {
      "cell_type": "markdown",
      "source": [
        "# 모델 학습"
      ],
      "metadata": {
        "id": "tUfajgtxVdte"
      }
    },
    {
      "cell_type": "code",
      "source": [
        "model = LGBMClassifier(random_state=SEED)\n",
        "model.fit(train_tmp,target)"
      ],
      "metadata": {
        "id": "16GsDHp0VGtd",
        "colab": {
          "base_uri": "https://localhost:8080/",
          "height": 225
        },
        "outputId": "a1b424dd-f893-45ce-ccdb-e3b31f268cd8"
      },
      "execution_count": 1307,
      "outputs": [
        {
          "output_type": "stream",
          "name": "stdout",
          "text": [
            "[LightGBM] [Warning] Found whitespace in feature_names, replace with underlines\n",
            "[LightGBM] [Info] Number of positive: 5874, number of negative: 9066\n",
            "[LightGBM] [Info] Auto-choosing col-wise multi-threading, the overhead of testing was 0.303461 seconds.\n",
            "You can set `force_col_wise=true` to remove the overhead.\n",
            "[LightGBM] [Info] Total Bins 108469\n",
            "[LightGBM] [Info] Number of data points in the train set: 14940, number of used features: 1188\n",
            "[LightGBM] [Info] [binary:BoostFromScore]: pavg=0.393173 -> initscore=-0.433995\n",
            "[LightGBM] [Info] Start training from score -0.433995\n"
          ]
        },
        {
          "output_type": "execute_result",
          "data": {
            "text/plain": [
              "LGBMClassifier(random_state=42)"
            ],
            "text/html": [
              "<style>#sk-container-id-3 {\n",
              "  /* Definition of color scheme common for light and dark mode */\n",
              "  --sklearn-color-text: black;\n",
              "  --sklearn-color-line: gray;\n",
              "  /* Definition of color scheme for unfitted estimators */\n",
              "  --sklearn-color-unfitted-level-0: #fff5e6;\n",
              "  --sklearn-color-unfitted-level-1: #f6e4d2;\n",
              "  --sklearn-color-unfitted-level-2: #ffe0b3;\n",
              "  --sklearn-color-unfitted-level-3: chocolate;\n",
              "  /* Definition of color scheme for fitted estimators */\n",
              "  --sklearn-color-fitted-level-0: #f0f8ff;\n",
              "  --sklearn-color-fitted-level-1: #d4ebff;\n",
              "  --sklearn-color-fitted-level-2: #b3dbfd;\n",
              "  --sklearn-color-fitted-level-3: cornflowerblue;\n",
              "\n",
              "  /* Specific color for light theme */\n",
              "  --sklearn-color-text-on-default-background: var(--sg-text-color, var(--theme-code-foreground, var(--jp-content-font-color1, black)));\n",
              "  --sklearn-color-background: var(--sg-background-color, var(--theme-background, var(--jp-layout-color0, white)));\n",
              "  --sklearn-color-border-box: var(--sg-text-color, var(--theme-code-foreground, var(--jp-content-font-color1, black)));\n",
              "  --sklearn-color-icon: #696969;\n",
              "\n",
              "  @media (prefers-color-scheme: dark) {\n",
              "    /* Redefinition of color scheme for dark theme */\n",
              "    --sklearn-color-text-on-default-background: var(--sg-text-color, var(--theme-code-foreground, var(--jp-content-font-color1, white)));\n",
              "    --sklearn-color-background: var(--sg-background-color, var(--theme-background, var(--jp-layout-color0, #111)));\n",
              "    --sklearn-color-border-box: var(--sg-text-color, var(--theme-code-foreground, var(--jp-content-font-color1, white)));\n",
              "    --sklearn-color-icon: #878787;\n",
              "  }\n",
              "}\n",
              "\n",
              "#sk-container-id-3 {\n",
              "  color: var(--sklearn-color-text);\n",
              "}\n",
              "\n",
              "#sk-container-id-3 pre {\n",
              "  padding: 0;\n",
              "}\n",
              "\n",
              "#sk-container-id-3 input.sk-hidden--visually {\n",
              "  border: 0;\n",
              "  clip: rect(1px 1px 1px 1px);\n",
              "  clip: rect(1px, 1px, 1px, 1px);\n",
              "  height: 1px;\n",
              "  margin: -1px;\n",
              "  overflow: hidden;\n",
              "  padding: 0;\n",
              "  position: absolute;\n",
              "  width: 1px;\n",
              "}\n",
              "\n",
              "#sk-container-id-3 div.sk-dashed-wrapped {\n",
              "  border: 1px dashed var(--sklearn-color-line);\n",
              "  margin: 0 0.4em 0.5em 0.4em;\n",
              "  box-sizing: border-box;\n",
              "  padding-bottom: 0.4em;\n",
              "  background-color: var(--sklearn-color-background);\n",
              "}\n",
              "\n",
              "#sk-container-id-3 div.sk-container {\n",
              "  /* jupyter's `normalize.less` sets `[hidden] { display: none; }`\n",
              "     but bootstrap.min.css set `[hidden] { display: none !important; }`\n",
              "     so we also need the `!important` here to be able to override the\n",
              "     default hidden behavior on the sphinx rendered scikit-learn.org.\n",
              "     See: https://github.com/scikit-learn/scikit-learn/issues/21755 */\n",
              "  display: inline-block !important;\n",
              "  position: relative;\n",
              "}\n",
              "\n",
              "#sk-container-id-3 div.sk-text-repr-fallback {\n",
              "  display: none;\n",
              "}\n",
              "\n",
              "div.sk-parallel-item,\n",
              "div.sk-serial,\n",
              "div.sk-item {\n",
              "  /* draw centered vertical line to link estimators */\n",
              "  background-image: linear-gradient(var(--sklearn-color-text-on-default-background), var(--sklearn-color-text-on-default-background));\n",
              "  background-size: 2px 100%;\n",
              "  background-repeat: no-repeat;\n",
              "  background-position: center center;\n",
              "}\n",
              "\n",
              "/* Parallel-specific style estimator block */\n",
              "\n",
              "#sk-container-id-3 div.sk-parallel-item::after {\n",
              "  content: \"\";\n",
              "  width: 100%;\n",
              "  border-bottom: 2px solid var(--sklearn-color-text-on-default-background);\n",
              "  flex-grow: 1;\n",
              "}\n",
              "\n",
              "#sk-container-id-3 div.sk-parallel {\n",
              "  display: flex;\n",
              "  align-items: stretch;\n",
              "  justify-content: center;\n",
              "  background-color: var(--sklearn-color-background);\n",
              "  position: relative;\n",
              "}\n",
              "\n",
              "#sk-container-id-3 div.sk-parallel-item {\n",
              "  display: flex;\n",
              "  flex-direction: column;\n",
              "}\n",
              "\n",
              "#sk-container-id-3 div.sk-parallel-item:first-child::after {\n",
              "  align-self: flex-end;\n",
              "  width: 50%;\n",
              "}\n",
              "\n",
              "#sk-container-id-3 div.sk-parallel-item:last-child::after {\n",
              "  align-self: flex-start;\n",
              "  width: 50%;\n",
              "}\n",
              "\n",
              "#sk-container-id-3 div.sk-parallel-item:only-child::after {\n",
              "  width: 0;\n",
              "}\n",
              "\n",
              "/* Serial-specific style estimator block */\n",
              "\n",
              "#sk-container-id-3 div.sk-serial {\n",
              "  display: flex;\n",
              "  flex-direction: column;\n",
              "  align-items: center;\n",
              "  background-color: var(--sklearn-color-background);\n",
              "  padding-right: 1em;\n",
              "  padding-left: 1em;\n",
              "}\n",
              "\n",
              "\n",
              "/* Toggleable style: style used for estimator/Pipeline/ColumnTransformer box that is\n",
              "clickable and can be expanded/collapsed.\n",
              "- Pipeline and ColumnTransformer use this feature and define the default style\n",
              "- Estimators will overwrite some part of the style using the `sk-estimator` class\n",
              "*/\n",
              "\n",
              "/* Pipeline and ColumnTransformer style (default) */\n",
              "\n",
              "#sk-container-id-3 div.sk-toggleable {\n",
              "  /* Default theme specific background. It is overwritten whether we have a\n",
              "  specific estimator or a Pipeline/ColumnTransformer */\n",
              "  background-color: var(--sklearn-color-background);\n",
              "}\n",
              "\n",
              "/* Toggleable label */\n",
              "#sk-container-id-3 label.sk-toggleable__label {\n",
              "  cursor: pointer;\n",
              "  display: block;\n",
              "  width: 100%;\n",
              "  margin-bottom: 0;\n",
              "  padding: 0.5em;\n",
              "  box-sizing: border-box;\n",
              "  text-align: center;\n",
              "}\n",
              "\n",
              "#sk-container-id-3 label.sk-toggleable__label-arrow:before {\n",
              "  /* Arrow on the left of the label */\n",
              "  content: \"▸\";\n",
              "  float: left;\n",
              "  margin-right: 0.25em;\n",
              "  color: var(--sklearn-color-icon);\n",
              "}\n",
              "\n",
              "#sk-container-id-3 label.sk-toggleable__label-arrow:hover:before {\n",
              "  color: var(--sklearn-color-text);\n",
              "}\n",
              "\n",
              "/* Toggleable content - dropdown */\n",
              "\n",
              "#sk-container-id-3 div.sk-toggleable__content {\n",
              "  max-height: 0;\n",
              "  max-width: 0;\n",
              "  overflow: hidden;\n",
              "  text-align: left;\n",
              "  /* unfitted */\n",
              "  background-color: var(--sklearn-color-unfitted-level-0);\n",
              "}\n",
              "\n",
              "#sk-container-id-3 div.sk-toggleable__content.fitted {\n",
              "  /* fitted */\n",
              "  background-color: var(--sklearn-color-fitted-level-0);\n",
              "}\n",
              "\n",
              "#sk-container-id-3 div.sk-toggleable__content pre {\n",
              "  margin: 0.2em;\n",
              "  border-radius: 0.25em;\n",
              "  color: var(--sklearn-color-text);\n",
              "  /* unfitted */\n",
              "  background-color: var(--sklearn-color-unfitted-level-0);\n",
              "}\n",
              "\n",
              "#sk-container-id-3 div.sk-toggleable__content.fitted pre {\n",
              "  /* unfitted */\n",
              "  background-color: var(--sklearn-color-fitted-level-0);\n",
              "}\n",
              "\n",
              "#sk-container-id-3 input.sk-toggleable__control:checked~div.sk-toggleable__content {\n",
              "  /* Expand drop-down */\n",
              "  max-height: 200px;\n",
              "  max-width: 100%;\n",
              "  overflow: auto;\n",
              "}\n",
              "\n",
              "#sk-container-id-3 input.sk-toggleable__control:checked~label.sk-toggleable__label-arrow:before {\n",
              "  content: \"▾\";\n",
              "}\n",
              "\n",
              "/* Pipeline/ColumnTransformer-specific style */\n",
              "\n",
              "#sk-container-id-3 div.sk-label input.sk-toggleable__control:checked~label.sk-toggleable__label {\n",
              "  color: var(--sklearn-color-text);\n",
              "  background-color: var(--sklearn-color-unfitted-level-2);\n",
              "}\n",
              "\n",
              "#sk-container-id-3 div.sk-label.fitted input.sk-toggleable__control:checked~label.sk-toggleable__label {\n",
              "  background-color: var(--sklearn-color-fitted-level-2);\n",
              "}\n",
              "\n",
              "/* Estimator-specific style */\n",
              "\n",
              "/* Colorize estimator box */\n",
              "#sk-container-id-3 div.sk-estimator input.sk-toggleable__control:checked~label.sk-toggleable__label {\n",
              "  /* unfitted */\n",
              "  background-color: var(--sklearn-color-unfitted-level-2);\n",
              "}\n",
              "\n",
              "#sk-container-id-3 div.sk-estimator.fitted input.sk-toggleable__control:checked~label.sk-toggleable__label {\n",
              "  /* fitted */\n",
              "  background-color: var(--sklearn-color-fitted-level-2);\n",
              "}\n",
              "\n",
              "#sk-container-id-3 div.sk-label label.sk-toggleable__label,\n",
              "#sk-container-id-3 div.sk-label label {\n",
              "  /* The background is the default theme color */\n",
              "  color: var(--sklearn-color-text-on-default-background);\n",
              "}\n",
              "\n",
              "/* On hover, darken the color of the background */\n",
              "#sk-container-id-3 div.sk-label:hover label.sk-toggleable__label {\n",
              "  color: var(--sklearn-color-text);\n",
              "  background-color: var(--sklearn-color-unfitted-level-2);\n",
              "}\n",
              "\n",
              "/* Label box, darken color on hover, fitted */\n",
              "#sk-container-id-3 div.sk-label.fitted:hover label.sk-toggleable__label.fitted {\n",
              "  color: var(--sklearn-color-text);\n",
              "  background-color: var(--sklearn-color-fitted-level-2);\n",
              "}\n",
              "\n",
              "/* Estimator label */\n",
              "\n",
              "#sk-container-id-3 div.sk-label label {\n",
              "  font-family: monospace;\n",
              "  font-weight: bold;\n",
              "  display: inline-block;\n",
              "  line-height: 1.2em;\n",
              "}\n",
              "\n",
              "#sk-container-id-3 div.sk-label-container {\n",
              "  text-align: center;\n",
              "}\n",
              "\n",
              "/* Estimator-specific */\n",
              "#sk-container-id-3 div.sk-estimator {\n",
              "  font-family: monospace;\n",
              "  border: 1px dotted var(--sklearn-color-border-box);\n",
              "  border-radius: 0.25em;\n",
              "  box-sizing: border-box;\n",
              "  margin-bottom: 0.5em;\n",
              "  /* unfitted */\n",
              "  background-color: var(--sklearn-color-unfitted-level-0);\n",
              "}\n",
              "\n",
              "#sk-container-id-3 div.sk-estimator.fitted {\n",
              "  /* fitted */\n",
              "  background-color: var(--sklearn-color-fitted-level-0);\n",
              "}\n",
              "\n",
              "/* on hover */\n",
              "#sk-container-id-3 div.sk-estimator:hover {\n",
              "  /* unfitted */\n",
              "  background-color: var(--sklearn-color-unfitted-level-2);\n",
              "}\n",
              "\n",
              "#sk-container-id-3 div.sk-estimator.fitted:hover {\n",
              "  /* fitted */\n",
              "  background-color: var(--sklearn-color-fitted-level-2);\n",
              "}\n",
              "\n",
              "/* Specification for estimator info (e.g. \"i\" and \"?\") */\n",
              "\n",
              "/* Common style for \"i\" and \"?\" */\n",
              "\n",
              ".sk-estimator-doc-link,\n",
              "a:link.sk-estimator-doc-link,\n",
              "a:visited.sk-estimator-doc-link {\n",
              "  float: right;\n",
              "  font-size: smaller;\n",
              "  line-height: 1em;\n",
              "  font-family: monospace;\n",
              "  background-color: var(--sklearn-color-background);\n",
              "  border-radius: 1em;\n",
              "  height: 1em;\n",
              "  width: 1em;\n",
              "  text-decoration: none !important;\n",
              "  margin-left: 1ex;\n",
              "  /* unfitted */\n",
              "  border: var(--sklearn-color-unfitted-level-1) 1pt solid;\n",
              "  color: var(--sklearn-color-unfitted-level-1);\n",
              "}\n",
              "\n",
              ".sk-estimator-doc-link.fitted,\n",
              "a:link.sk-estimator-doc-link.fitted,\n",
              "a:visited.sk-estimator-doc-link.fitted {\n",
              "  /* fitted */\n",
              "  border: var(--sklearn-color-fitted-level-1) 1pt solid;\n",
              "  color: var(--sklearn-color-fitted-level-1);\n",
              "}\n",
              "\n",
              "/* On hover */\n",
              "div.sk-estimator:hover .sk-estimator-doc-link:hover,\n",
              ".sk-estimator-doc-link:hover,\n",
              "div.sk-label-container:hover .sk-estimator-doc-link:hover,\n",
              ".sk-estimator-doc-link:hover {\n",
              "  /* unfitted */\n",
              "  background-color: var(--sklearn-color-unfitted-level-3);\n",
              "  color: var(--sklearn-color-background);\n",
              "  text-decoration: none;\n",
              "}\n",
              "\n",
              "div.sk-estimator.fitted:hover .sk-estimator-doc-link.fitted:hover,\n",
              ".sk-estimator-doc-link.fitted:hover,\n",
              "div.sk-label-container:hover .sk-estimator-doc-link.fitted:hover,\n",
              ".sk-estimator-doc-link.fitted:hover {\n",
              "  /* fitted */\n",
              "  background-color: var(--sklearn-color-fitted-level-3);\n",
              "  color: var(--sklearn-color-background);\n",
              "  text-decoration: none;\n",
              "}\n",
              "\n",
              "/* Span, style for the box shown on hovering the info icon */\n",
              ".sk-estimator-doc-link span {\n",
              "  display: none;\n",
              "  z-index: 9999;\n",
              "  position: relative;\n",
              "  font-weight: normal;\n",
              "  right: .2ex;\n",
              "  padding: .5ex;\n",
              "  margin: .5ex;\n",
              "  width: min-content;\n",
              "  min-width: 20ex;\n",
              "  max-width: 50ex;\n",
              "  color: var(--sklearn-color-text);\n",
              "  box-shadow: 2pt 2pt 4pt #999;\n",
              "  /* unfitted */\n",
              "  background: var(--sklearn-color-unfitted-level-0);\n",
              "  border: .5pt solid var(--sklearn-color-unfitted-level-3);\n",
              "}\n",
              "\n",
              ".sk-estimator-doc-link.fitted span {\n",
              "  /* fitted */\n",
              "  background: var(--sklearn-color-fitted-level-0);\n",
              "  border: var(--sklearn-color-fitted-level-3);\n",
              "}\n",
              "\n",
              ".sk-estimator-doc-link:hover span {\n",
              "  display: block;\n",
              "}\n",
              "\n",
              "/* \"?\"-specific style due to the `<a>` HTML tag */\n",
              "\n",
              "#sk-container-id-3 a.estimator_doc_link {\n",
              "  float: right;\n",
              "  font-size: 1rem;\n",
              "  line-height: 1em;\n",
              "  font-family: monospace;\n",
              "  background-color: var(--sklearn-color-background);\n",
              "  border-radius: 1rem;\n",
              "  height: 1rem;\n",
              "  width: 1rem;\n",
              "  text-decoration: none;\n",
              "  /* unfitted */\n",
              "  color: var(--sklearn-color-unfitted-level-1);\n",
              "  border: var(--sklearn-color-unfitted-level-1) 1pt solid;\n",
              "}\n",
              "\n",
              "#sk-container-id-3 a.estimator_doc_link.fitted {\n",
              "  /* fitted */\n",
              "  border: var(--sklearn-color-fitted-level-1) 1pt solid;\n",
              "  color: var(--sklearn-color-fitted-level-1);\n",
              "}\n",
              "\n",
              "/* On hover */\n",
              "#sk-container-id-3 a.estimator_doc_link:hover {\n",
              "  /* unfitted */\n",
              "  background-color: var(--sklearn-color-unfitted-level-3);\n",
              "  color: var(--sklearn-color-background);\n",
              "  text-decoration: none;\n",
              "}\n",
              "\n",
              "#sk-container-id-3 a.estimator_doc_link.fitted:hover {\n",
              "  /* fitted */\n",
              "  background-color: var(--sklearn-color-fitted-level-3);\n",
              "}\n",
              "</style><div id=\"sk-container-id-3\" class=\"sk-top-container\"><div class=\"sk-text-repr-fallback\"><pre>LGBMClassifier(random_state=42)</pre><b>In a Jupyter environment, please rerun this cell to show the HTML representation or trust the notebook. <br />On GitHub, the HTML representation is unable to render, please try loading this page with nbviewer.org.</b></div><div class=\"sk-container\" hidden><div class=\"sk-item\"><div class=\"sk-estimator fitted sk-toggleable\"><input class=\"sk-toggleable__control sk-hidden--visually\" id=\"sk-estimator-id-3\" type=\"checkbox\" checked><label for=\"sk-estimator-id-3\" class=\"sk-toggleable__label fitted sk-toggleable__label-arrow fitted\">&nbsp;LGBMClassifier<span class=\"sk-estimator-doc-link fitted\">i<span>Fitted</span></span></label><div class=\"sk-toggleable__content fitted\"><pre>LGBMClassifier(random_state=42)</pre></div> </div></div></div></div>"
            ]
          },
          "metadata": {},
          "execution_count": 1307
        }
      ]
    },
    {
      "cell_type": "markdown",
      "source": [
        "# 테스트 데이터 예측"
      ],
      "metadata": {
        "id": "q-we55wPVkWP"
      }
    },
    {
      "cell_type": "code",
      "source": [
        "pred = model.predict(test_ft)\n",
        "pred"
      ],
      "metadata": {
        "id": "Umn-CJl7VGqv",
        "colab": {
          "base_uri": "https://localhost:8080/"
        },
        "outputId": "fe3b9178-4ef9-476e-832d-8033c709ce53"
      },
      "execution_count": null,
      "outputs": [
        {
          "output_type": "execute_result",
          "data": {
            "text/plain": [
              "array([0., 0., 0., ..., 0., 0., 0.])"
            ]
          },
          "metadata": {},
          "execution_count": 139
        }
      ]
    },
    {
      "cell_type": "code",
      "source": [
        "pred = model.predict_proba(test_ft)[:,1]\n",
        "pred"
      ],
      "metadata": {
        "colab": {
          "base_uri": "https://localhost:8080/"
        },
        "id": "Pl4CtHEE5BXr",
        "outputId": "800d50f9-df59-46ab-b2e4-45a9efecf963"
      },
      "execution_count": null,
      "outputs": [
        {
          "output_type": "execute_result",
          "data": {
            "text/plain": [
              "array([0.08222887, 0.34809674, 0.33352402, ..., 0.08107   , 0.09808246,\n",
              "       0.07521644])"
            ]
          },
          "metadata": {},
          "execution_count": 195
        }
      ]
    },
    {
      "cell_type": "markdown",
      "source": [
        "# 평가를 위한 제출 파일 생성\n",
        "- 예측 결과를 target 컬럼에 넣어 csv 파일로 저장후에 제출한다."
      ],
      "metadata": {
        "id": "CcnCtcWPVrKn"
      }
    },
    {
      "cell_type": "code",
      "source": [
        "submit"
      ],
      "metadata": {
        "id": "rsysksnYVrC1",
        "colab": {
          "base_uri": "https://localhost:8080/",
          "height": 423
        },
        "outputId": "4a745f9e-0eaa-48c6-fc34-f49b5bb3e3a3"
      },
      "execution_count": null,
      "outputs": [
        {
          "output_type": "execute_result",
          "data": {
            "text/plain": [
              "               ID  target\n",
              "0          test_0     0.5\n",
              "1          test_1     0.5\n",
              "2          test_2     0.5\n",
              "3          test_3     0.5\n",
              "4          test_4     0.5\n",
              "...           ...     ...\n",
              "12220  test_12220     0.5\n",
              "12221  test_12221     0.5\n",
              "12222  test_12222     0.5\n",
              "12223  test_12223     0.5\n",
              "12224  test_12224     0.5\n",
              "\n",
              "[12225 rows x 2 columns]"
            ],
            "text/html": [
              "\n",
              "  <div id=\"df-11301186-352c-4295-85ff-204efb0377cb\" class=\"colab-df-container\">\n",
              "    <div>\n",
              "<style scoped>\n",
              "    .dataframe tbody tr th:only-of-type {\n",
              "        vertical-align: middle;\n",
              "    }\n",
              "\n",
              "    .dataframe tbody tr th {\n",
              "        vertical-align: top;\n",
              "    }\n",
              "\n",
              "    .dataframe thead th {\n",
              "        text-align: right;\n",
              "    }\n",
              "</style>\n",
              "<table border=\"1\" class=\"dataframe\">\n",
              "  <thead>\n",
              "    <tr style=\"text-align: right;\">\n",
              "      <th></th>\n",
              "      <th>ID</th>\n",
              "      <th>target</th>\n",
              "    </tr>\n",
              "  </thead>\n",
              "  <tbody>\n",
              "    <tr>\n",
              "      <th>0</th>\n",
              "      <td>test_0</td>\n",
              "      <td>0.5</td>\n",
              "    </tr>\n",
              "    <tr>\n",
              "      <th>1</th>\n",
              "      <td>test_1</td>\n",
              "      <td>0.5</td>\n",
              "    </tr>\n",
              "    <tr>\n",
              "      <th>2</th>\n",
              "      <td>test_2</td>\n",
              "      <td>0.5</td>\n",
              "    </tr>\n",
              "    <tr>\n",
              "      <th>3</th>\n",
              "      <td>test_3</td>\n",
              "      <td>0.5</td>\n",
              "    </tr>\n",
              "    <tr>\n",
              "      <th>4</th>\n",
              "      <td>test_4</td>\n",
              "      <td>0.5</td>\n",
              "    </tr>\n",
              "    <tr>\n",
              "      <th>...</th>\n",
              "      <td>...</td>\n",
              "      <td>...</td>\n",
              "    </tr>\n",
              "    <tr>\n",
              "      <th>12220</th>\n",
              "      <td>test_12220</td>\n",
              "      <td>0.5</td>\n",
              "    </tr>\n",
              "    <tr>\n",
              "      <th>12221</th>\n",
              "      <td>test_12221</td>\n",
              "      <td>0.5</td>\n",
              "    </tr>\n",
              "    <tr>\n",
              "      <th>12222</th>\n",
              "      <td>test_12222</td>\n",
              "      <td>0.5</td>\n",
              "    </tr>\n",
              "    <tr>\n",
              "      <th>12223</th>\n",
              "      <td>test_12223</td>\n",
              "      <td>0.5</td>\n",
              "    </tr>\n",
              "    <tr>\n",
              "      <th>12224</th>\n",
              "      <td>test_12224</td>\n",
              "      <td>0.5</td>\n",
              "    </tr>\n",
              "  </tbody>\n",
              "</table>\n",
              "<p>12225 rows × 2 columns</p>\n",
              "</div>\n",
              "    <div class=\"colab-df-buttons\">\n",
              "\n",
              "  <div class=\"colab-df-container\">\n",
              "    <button class=\"colab-df-convert\" onclick=\"convertToInteractive('df-11301186-352c-4295-85ff-204efb0377cb')\"\n",
              "            title=\"Convert this dataframe to an interactive table.\"\n",
              "            style=\"display:none;\">\n",
              "\n",
              "  <svg xmlns=\"http://www.w3.org/2000/svg\" height=\"24px\" viewBox=\"0 -960 960 960\">\n",
              "    <path d=\"M120-120v-720h720v720H120Zm60-500h600v-160H180v160Zm220 220h160v-160H400v160Zm0 220h160v-160H400v160ZM180-400h160v-160H180v160Zm440 0h160v-160H620v160ZM180-180h160v-160H180v160Zm440 0h160v-160H620v160Z\"/>\n",
              "  </svg>\n",
              "    </button>\n",
              "\n",
              "  <style>\n",
              "    .colab-df-container {\n",
              "      display:flex;\n",
              "      gap: 12px;\n",
              "    }\n",
              "\n",
              "    .colab-df-convert {\n",
              "      background-color: #E8F0FE;\n",
              "      border: none;\n",
              "      border-radius: 50%;\n",
              "      cursor: pointer;\n",
              "      display: none;\n",
              "      fill: #1967D2;\n",
              "      height: 32px;\n",
              "      padding: 0 0 0 0;\n",
              "      width: 32px;\n",
              "    }\n",
              "\n",
              "    .colab-df-convert:hover {\n",
              "      background-color: #E2EBFA;\n",
              "      box-shadow: 0px 1px 2px rgba(60, 64, 67, 0.3), 0px 1px 3px 1px rgba(60, 64, 67, 0.15);\n",
              "      fill: #174EA6;\n",
              "    }\n",
              "\n",
              "    .colab-df-buttons div {\n",
              "      margin-bottom: 4px;\n",
              "    }\n",
              "\n",
              "    [theme=dark] .colab-df-convert {\n",
              "      background-color: #3B4455;\n",
              "      fill: #D2E3FC;\n",
              "    }\n",
              "\n",
              "    [theme=dark] .colab-df-convert:hover {\n",
              "      background-color: #434B5C;\n",
              "      box-shadow: 0px 1px 3px 1px rgba(0, 0, 0, 0.15);\n",
              "      filter: drop-shadow(0px 1px 2px rgba(0, 0, 0, 0.3));\n",
              "      fill: #FFFFFF;\n",
              "    }\n",
              "  </style>\n",
              "\n",
              "    <script>\n",
              "      const buttonEl =\n",
              "        document.querySelector('#df-11301186-352c-4295-85ff-204efb0377cb button.colab-df-convert');\n",
              "      buttonEl.style.display =\n",
              "        google.colab.kernel.accessAllowed ? 'block' : 'none';\n",
              "\n",
              "      async function convertToInteractive(key) {\n",
              "        const element = document.querySelector('#df-11301186-352c-4295-85ff-204efb0377cb');\n",
              "        const dataTable =\n",
              "          await google.colab.kernel.invokeFunction('convertToInteractive',\n",
              "                                                    [key], {});\n",
              "        if (!dataTable) return;\n",
              "\n",
              "        const docLinkHtml = 'Like what you see? Visit the ' +\n",
              "          '<a target=\"_blank\" href=https://colab.research.google.com/notebooks/data_table.ipynb>data table notebook</a>'\n",
              "          + ' to learn more about interactive tables.';\n",
              "        element.innerHTML = '';\n",
              "        dataTable['output_type'] = 'display_data';\n",
              "        await google.colab.output.renderOutput(dataTable, element);\n",
              "        const docLink = document.createElement('div');\n",
              "        docLink.innerHTML = docLinkHtml;\n",
              "        element.appendChild(docLink);\n",
              "      }\n",
              "    </script>\n",
              "  </div>\n",
              "\n",
              "\n",
              "<div id=\"df-2cb39cbb-327f-4211-a748-d42fbe0e7284\">\n",
              "  <button class=\"colab-df-quickchart\" onclick=\"quickchart('df-2cb39cbb-327f-4211-a748-d42fbe0e7284')\"\n",
              "            title=\"Suggest charts\"\n",
              "            style=\"display:none;\">\n",
              "\n",
              "<svg xmlns=\"http://www.w3.org/2000/svg\" height=\"24px\"viewBox=\"0 0 24 24\"\n",
              "     width=\"24px\">\n",
              "    <g>\n",
              "        <path d=\"M19 3H5c-1.1 0-2 .9-2 2v14c0 1.1.9 2 2 2h14c1.1 0 2-.9 2-2V5c0-1.1-.9-2-2-2zM9 17H7v-7h2v7zm4 0h-2V7h2v10zm4 0h-2v-4h2v4z\"/>\n",
              "    </g>\n",
              "</svg>\n",
              "  </button>\n",
              "\n",
              "<style>\n",
              "  .colab-df-quickchart {\n",
              "      --bg-color: #E8F0FE;\n",
              "      --fill-color: #1967D2;\n",
              "      --hover-bg-color: #E2EBFA;\n",
              "      --hover-fill-color: #174EA6;\n",
              "      --disabled-fill-color: #AAA;\n",
              "      --disabled-bg-color: #DDD;\n",
              "  }\n",
              "\n",
              "  [theme=dark] .colab-df-quickchart {\n",
              "      --bg-color: #3B4455;\n",
              "      --fill-color: #D2E3FC;\n",
              "      --hover-bg-color: #434B5C;\n",
              "      --hover-fill-color: #FFFFFF;\n",
              "      --disabled-bg-color: #3B4455;\n",
              "      --disabled-fill-color: #666;\n",
              "  }\n",
              "\n",
              "  .colab-df-quickchart {\n",
              "    background-color: var(--bg-color);\n",
              "    border: none;\n",
              "    border-radius: 50%;\n",
              "    cursor: pointer;\n",
              "    display: none;\n",
              "    fill: var(--fill-color);\n",
              "    height: 32px;\n",
              "    padding: 0;\n",
              "    width: 32px;\n",
              "  }\n",
              "\n",
              "  .colab-df-quickchart:hover {\n",
              "    background-color: var(--hover-bg-color);\n",
              "    box-shadow: 0 1px 2px rgba(60, 64, 67, 0.3), 0 1px 3px 1px rgba(60, 64, 67, 0.15);\n",
              "    fill: var(--button-hover-fill-color);\n",
              "  }\n",
              "\n",
              "  .colab-df-quickchart-complete:disabled,\n",
              "  .colab-df-quickchart-complete:disabled:hover {\n",
              "    background-color: var(--disabled-bg-color);\n",
              "    fill: var(--disabled-fill-color);\n",
              "    box-shadow: none;\n",
              "  }\n",
              "\n",
              "  .colab-df-spinner {\n",
              "    border: 2px solid var(--fill-color);\n",
              "    border-color: transparent;\n",
              "    border-bottom-color: var(--fill-color);\n",
              "    animation:\n",
              "      spin 1s steps(1) infinite;\n",
              "  }\n",
              "\n",
              "  @keyframes spin {\n",
              "    0% {\n",
              "      border-color: transparent;\n",
              "      border-bottom-color: var(--fill-color);\n",
              "      border-left-color: var(--fill-color);\n",
              "    }\n",
              "    20% {\n",
              "      border-color: transparent;\n",
              "      border-left-color: var(--fill-color);\n",
              "      border-top-color: var(--fill-color);\n",
              "    }\n",
              "    30% {\n",
              "      border-color: transparent;\n",
              "      border-left-color: var(--fill-color);\n",
              "      border-top-color: var(--fill-color);\n",
              "      border-right-color: var(--fill-color);\n",
              "    }\n",
              "    40% {\n",
              "      border-color: transparent;\n",
              "      border-right-color: var(--fill-color);\n",
              "      border-top-color: var(--fill-color);\n",
              "    }\n",
              "    60% {\n",
              "      border-color: transparent;\n",
              "      border-right-color: var(--fill-color);\n",
              "    }\n",
              "    80% {\n",
              "      border-color: transparent;\n",
              "      border-right-color: var(--fill-color);\n",
              "      border-bottom-color: var(--fill-color);\n",
              "    }\n",
              "    90% {\n",
              "      border-color: transparent;\n",
              "      border-bottom-color: var(--fill-color);\n",
              "    }\n",
              "  }\n",
              "</style>\n",
              "\n",
              "  <script>\n",
              "    async function quickchart(key) {\n",
              "      const quickchartButtonEl =\n",
              "        document.querySelector('#' + key + ' button');\n",
              "      quickchartButtonEl.disabled = true;  // To prevent multiple clicks.\n",
              "      quickchartButtonEl.classList.add('colab-df-spinner');\n",
              "      try {\n",
              "        const charts = await google.colab.kernel.invokeFunction(\n",
              "            'suggestCharts', [key], {});\n",
              "      } catch (error) {\n",
              "        console.error('Error during call to suggestCharts:', error);\n",
              "      }\n",
              "      quickchartButtonEl.classList.remove('colab-df-spinner');\n",
              "      quickchartButtonEl.classList.add('colab-df-quickchart-complete');\n",
              "    }\n",
              "    (() => {\n",
              "      let quickchartButtonEl =\n",
              "        document.querySelector('#df-2cb39cbb-327f-4211-a748-d42fbe0e7284 button');\n",
              "      quickchartButtonEl.style.display =\n",
              "        google.colab.kernel.accessAllowed ? 'block' : 'none';\n",
              "    })();\n",
              "  </script>\n",
              "</div>\n",
              "\n",
              "  <div id=\"id_f105c099-fffb-441c-8ed5-3affe9c94ee1\">\n",
              "    <style>\n",
              "      .colab-df-generate {\n",
              "        background-color: #E8F0FE;\n",
              "        border: none;\n",
              "        border-radius: 50%;\n",
              "        cursor: pointer;\n",
              "        display: none;\n",
              "        fill: #1967D2;\n",
              "        height: 32px;\n",
              "        padding: 0 0 0 0;\n",
              "        width: 32px;\n",
              "      }\n",
              "\n",
              "      .colab-df-generate:hover {\n",
              "        background-color: #E2EBFA;\n",
              "        box-shadow: 0px 1px 2px rgba(60, 64, 67, 0.3), 0px 1px 3px 1px rgba(60, 64, 67, 0.15);\n",
              "        fill: #174EA6;\n",
              "      }\n",
              "\n",
              "      [theme=dark] .colab-df-generate {\n",
              "        background-color: #3B4455;\n",
              "        fill: #D2E3FC;\n",
              "      }\n",
              "\n",
              "      [theme=dark] .colab-df-generate:hover {\n",
              "        background-color: #434B5C;\n",
              "        box-shadow: 0px 1px 3px 1px rgba(0, 0, 0, 0.15);\n",
              "        filter: drop-shadow(0px 1px 2px rgba(0, 0, 0, 0.3));\n",
              "        fill: #FFFFFF;\n",
              "      }\n",
              "    </style>\n",
              "    <button class=\"colab-df-generate\" onclick=\"generateWithVariable('submit')\"\n",
              "            title=\"Generate code using this dataframe.\"\n",
              "            style=\"display:none;\">\n",
              "\n",
              "  <svg xmlns=\"http://www.w3.org/2000/svg\" height=\"24px\"viewBox=\"0 0 24 24\"\n",
              "       width=\"24px\">\n",
              "    <path d=\"M7,19H8.4L18.45,9,17,7.55,7,17.6ZM5,21V16.75L18.45,3.32a2,2,0,0,1,2.83,0l1.4,1.43a1.91,1.91,0,0,1,.58,1.4,1.91,1.91,0,0,1-.58,1.4L9.25,21ZM18.45,9,17,7.55Zm-12,3A5.31,5.31,0,0,0,4.9,8.1,5.31,5.31,0,0,0,1,6.5,5.31,5.31,0,0,0,4.9,4.9,5.31,5.31,0,0,0,6.5,1,5.31,5.31,0,0,0,8.1,4.9,5.31,5.31,0,0,0,12,6.5,5.46,5.46,0,0,0,6.5,12Z\"/>\n",
              "  </svg>\n",
              "    </button>\n",
              "    <script>\n",
              "      (() => {\n",
              "      const buttonEl =\n",
              "        document.querySelector('#id_f105c099-fffb-441c-8ed5-3affe9c94ee1 button.colab-df-generate');\n",
              "      buttonEl.style.display =\n",
              "        google.colab.kernel.accessAllowed ? 'block' : 'none';\n",
              "\n",
              "      buttonEl.onclick = () => {\n",
              "        google.colab.notebook.generateWithVariable('submit');\n",
              "      }\n",
              "      })();\n",
              "    </script>\n",
              "  </div>\n",
              "\n",
              "    </div>\n",
              "  </div>\n"
            ],
            "application/vnd.google.colaboratory.intrinsic+json": {
              "type": "dataframe",
              "variable_name": "submit",
              "summary": "{\n  \"name\": \"submit\",\n  \"rows\": 12225,\n  \"fields\": [\n    {\n      \"column\": \"ID\",\n      \"properties\": {\n        \"dtype\": \"string\",\n        \"num_unique_values\": 12225,\n        \"samples\": [\n          \"test_8456\",\n          \"test_6835\",\n          \"test_1617\"\n        ],\n        \"semantic_type\": \"\",\n        \"description\": \"\"\n      }\n    },\n    {\n      \"column\": \"target\",\n      \"properties\": {\n        \"dtype\": \"number\",\n        \"std\": 0.0,\n        \"min\": 0.5,\n        \"max\": 0.5,\n        \"num_unique_values\": 1,\n        \"samples\": [\n          0.5\n        ],\n        \"semantic_type\": \"\",\n        \"description\": \"\"\n      }\n    }\n  ]\n}"
            }
          },
          "metadata": {},
          "execution_count": 196
        }
      ]
    },
    {
      "cell_type": "code",
      "source": [
        "submit[\"target\"] = pred\n",
        "submit"
      ],
      "metadata": {
        "id": "LLHqOugmVq_v",
        "colab": {
          "base_uri": "https://localhost:8080/",
          "height": 423
        },
        "outputId": "9db492c6-d167-433a-cc93-c082aeef8488"
      },
      "execution_count": null,
      "outputs": [
        {
          "output_type": "execute_result",
          "data": {
            "text/plain": [
              "               ID  target\n",
              "0          test_0     0.0\n",
              "1          test_1     0.0\n",
              "2          test_2     0.0\n",
              "3          test_3     1.0\n",
              "4          test_4     1.0\n",
              "...           ...     ...\n",
              "12220  test_12220     1.0\n",
              "12221  test_12221     0.0\n",
              "12222  test_12222     0.0\n",
              "12223  test_12223     0.0\n",
              "12224  test_12224     0.0\n",
              "\n",
              "[12225 rows x 2 columns]"
            ],
            "text/html": [
              "\n",
              "  <div id=\"df-a4d95881-ba75-4bb8-be51-a43ce1c2072c\" class=\"colab-df-container\">\n",
              "    <div>\n",
              "<style scoped>\n",
              "    .dataframe tbody tr th:only-of-type {\n",
              "        vertical-align: middle;\n",
              "    }\n",
              "\n",
              "    .dataframe tbody tr th {\n",
              "        vertical-align: top;\n",
              "    }\n",
              "\n",
              "    .dataframe thead th {\n",
              "        text-align: right;\n",
              "    }\n",
              "</style>\n",
              "<table border=\"1\" class=\"dataframe\">\n",
              "  <thead>\n",
              "    <tr style=\"text-align: right;\">\n",
              "      <th></th>\n",
              "      <th>ID</th>\n",
              "      <th>target</th>\n",
              "    </tr>\n",
              "  </thead>\n",
              "  <tbody>\n",
              "    <tr>\n",
              "      <th>0</th>\n",
              "      <td>test_0</td>\n",
              "      <td>0.0</td>\n",
              "    </tr>\n",
              "    <tr>\n",
              "      <th>1</th>\n",
              "      <td>test_1</td>\n",
              "      <td>0.0</td>\n",
              "    </tr>\n",
              "    <tr>\n",
              "      <th>2</th>\n",
              "      <td>test_2</td>\n",
              "      <td>0.0</td>\n",
              "    </tr>\n",
              "    <tr>\n",
              "      <th>3</th>\n",
              "      <td>test_3</td>\n",
              "      <td>1.0</td>\n",
              "    </tr>\n",
              "    <tr>\n",
              "      <th>4</th>\n",
              "      <td>test_4</td>\n",
              "      <td>1.0</td>\n",
              "    </tr>\n",
              "    <tr>\n",
              "      <th>...</th>\n",
              "      <td>...</td>\n",
              "      <td>...</td>\n",
              "    </tr>\n",
              "    <tr>\n",
              "      <th>12220</th>\n",
              "      <td>test_12220</td>\n",
              "      <td>1.0</td>\n",
              "    </tr>\n",
              "    <tr>\n",
              "      <th>12221</th>\n",
              "      <td>test_12221</td>\n",
              "      <td>0.0</td>\n",
              "    </tr>\n",
              "    <tr>\n",
              "      <th>12222</th>\n",
              "      <td>test_12222</td>\n",
              "      <td>0.0</td>\n",
              "    </tr>\n",
              "    <tr>\n",
              "      <th>12223</th>\n",
              "      <td>test_12223</td>\n",
              "      <td>0.0</td>\n",
              "    </tr>\n",
              "    <tr>\n",
              "      <th>12224</th>\n",
              "      <td>test_12224</td>\n",
              "      <td>0.0</td>\n",
              "    </tr>\n",
              "  </tbody>\n",
              "</table>\n",
              "<p>12225 rows × 2 columns</p>\n",
              "</div>\n",
              "    <div class=\"colab-df-buttons\">\n",
              "\n",
              "  <div class=\"colab-df-container\">\n",
              "    <button class=\"colab-df-convert\" onclick=\"convertToInteractive('df-a4d95881-ba75-4bb8-be51-a43ce1c2072c')\"\n",
              "            title=\"Convert this dataframe to an interactive table.\"\n",
              "            style=\"display:none;\">\n",
              "\n",
              "  <svg xmlns=\"http://www.w3.org/2000/svg\" height=\"24px\" viewBox=\"0 -960 960 960\">\n",
              "    <path d=\"M120-120v-720h720v720H120Zm60-500h600v-160H180v160Zm220 220h160v-160H400v160Zm0 220h160v-160H400v160ZM180-400h160v-160H180v160Zm440 0h160v-160H620v160ZM180-180h160v-160H180v160Zm440 0h160v-160H620v160Z\"/>\n",
              "  </svg>\n",
              "    </button>\n",
              "\n",
              "  <style>\n",
              "    .colab-df-container {\n",
              "      display:flex;\n",
              "      gap: 12px;\n",
              "    }\n",
              "\n",
              "    .colab-df-convert {\n",
              "      background-color: #E8F0FE;\n",
              "      border: none;\n",
              "      border-radius: 50%;\n",
              "      cursor: pointer;\n",
              "      display: none;\n",
              "      fill: #1967D2;\n",
              "      height: 32px;\n",
              "      padding: 0 0 0 0;\n",
              "      width: 32px;\n",
              "    }\n",
              "\n",
              "    .colab-df-convert:hover {\n",
              "      background-color: #E2EBFA;\n",
              "      box-shadow: 0px 1px 2px rgba(60, 64, 67, 0.3), 0px 1px 3px 1px rgba(60, 64, 67, 0.15);\n",
              "      fill: #174EA6;\n",
              "    }\n",
              "\n",
              "    .colab-df-buttons div {\n",
              "      margin-bottom: 4px;\n",
              "    }\n",
              "\n",
              "    [theme=dark] .colab-df-convert {\n",
              "      background-color: #3B4455;\n",
              "      fill: #D2E3FC;\n",
              "    }\n",
              "\n",
              "    [theme=dark] .colab-df-convert:hover {\n",
              "      background-color: #434B5C;\n",
              "      box-shadow: 0px 1px 3px 1px rgba(0, 0, 0, 0.15);\n",
              "      filter: drop-shadow(0px 1px 2px rgba(0, 0, 0, 0.3));\n",
              "      fill: #FFFFFF;\n",
              "    }\n",
              "  </style>\n",
              "\n",
              "    <script>\n",
              "      const buttonEl =\n",
              "        document.querySelector('#df-a4d95881-ba75-4bb8-be51-a43ce1c2072c button.colab-df-convert');\n",
              "      buttonEl.style.display =\n",
              "        google.colab.kernel.accessAllowed ? 'block' : 'none';\n",
              "\n",
              "      async function convertToInteractive(key) {\n",
              "        const element = document.querySelector('#df-a4d95881-ba75-4bb8-be51-a43ce1c2072c');\n",
              "        const dataTable =\n",
              "          await google.colab.kernel.invokeFunction('convertToInteractive',\n",
              "                                                    [key], {});\n",
              "        if (!dataTable) return;\n",
              "\n",
              "        const docLinkHtml = 'Like what you see? Visit the ' +\n",
              "          '<a target=\"_blank\" href=https://colab.research.google.com/notebooks/data_table.ipynb>data table notebook</a>'\n",
              "          + ' to learn more about interactive tables.';\n",
              "        element.innerHTML = '';\n",
              "        dataTable['output_type'] = 'display_data';\n",
              "        await google.colab.output.renderOutput(dataTable, element);\n",
              "        const docLink = document.createElement('div');\n",
              "        docLink.innerHTML = docLinkHtml;\n",
              "        element.appendChild(docLink);\n",
              "      }\n",
              "    </script>\n",
              "  </div>\n",
              "\n",
              "\n",
              "<div id=\"df-65aa7f90-7c8a-4e0c-a8be-956cba00646a\">\n",
              "  <button class=\"colab-df-quickchart\" onclick=\"quickchart('df-65aa7f90-7c8a-4e0c-a8be-956cba00646a')\"\n",
              "            title=\"Suggest charts\"\n",
              "            style=\"display:none;\">\n",
              "\n",
              "<svg xmlns=\"http://www.w3.org/2000/svg\" height=\"24px\"viewBox=\"0 0 24 24\"\n",
              "     width=\"24px\">\n",
              "    <g>\n",
              "        <path d=\"M19 3H5c-1.1 0-2 .9-2 2v14c0 1.1.9 2 2 2h14c1.1 0 2-.9 2-2V5c0-1.1-.9-2-2-2zM9 17H7v-7h2v7zm4 0h-2V7h2v10zm4 0h-2v-4h2v4z\"/>\n",
              "    </g>\n",
              "</svg>\n",
              "  </button>\n",
              "\n",
              "<style>\n",
              "  .colab-df-quickchart {\n",
              "      --bg-color: #E8F0FE;\n",
              "      --fill-color: #1967D2;\n",
              "      --hover-bg-color: #E2EBFA;\n",
              "      --hover-fill-color: #174EA6;\n",
              "      --disabled-fill-color: #AAA;\n",
              "      --disabled-bg-color: #DDD;\n",
              "  }\n",
              "\n",
              "  [theme=dark] .colab-df-quickchart {\n",
              "      --bg-color: #3B4455;\n",
              "      --fill-color: #D2E3FC;\n",
              "      --hover-bg-color: #434B5C;\n",
              "      --hover-fill-color: #FFFFFF;\n",
              "      --disabled-bg-color: #3B4455;\n",
              "      --disabled-fill-color: #666;\n",
              "  }\n",
              "\n",
              "  .colab-df-quickchart {\n",
              "    background-color: var(--bg-color);\n",
              "    border: none;\n",
              "    border-radius: 50%;\n",
              "    cursor: pointer;\n",
              "    display: none;\n",
              "    fill: var(--fill-color);\n",
              "    height: 32px;\n",
              "    padding: 0;\n",
              "    width: 32px;\n",
              "  }\n",
              "\n",
              "  .colab-df-quickchart:hover {\n",
              "    background-color: var(--hover-bg-color);\n",
              "    box-shadow: 0 1px 2px rgba(60, 64, 67, 0.3), 0 1px 3px 1px rgba(60, 64, 67, 0.15);\n",
              "    fill: var(--button-hover-fill-color);\n",
              "  }\n",
              "\n",
              "  .colab-df-quickchart-complete:disabled,\n",
              "  .colab-df-quickchart-complete:disabled:hover {\n",
              "    background-color: var(--disabled-bg-color);\n",
              "    fill: var(--disabled-fill-color);\n",
              "    box-shadow: none;\n",
              "  }\n",
              "\n",
              "  .colab-df-spinner {\n",
              "    border: 2px solid var(--fill-color);\n",
              "    border-color: transparent;\n",
              "    border-bottom-color: var(--fill-color);\n",
              "    animation:\n",
              "      spin 1s steps(1) infinite;\n",
              "  }\n",
              "\n",
              "  @keyframes spin {\n",
              "    0% {\n",
              "      border-color: transparent;\n",
              "      border-bottom-color: var(--fill-color);\n",
              "      border-left-color: var(--fill-color);\n",
              "    }\n",
              "    20% {\n",
              "      border-color: transparent;\n",
              "      border-left-color: var(--fill-color);\n",
              "      border-top-color: var(--fill-color);\n",
              "    }\n",
              "    30% {\n",
              "      border-color: transparent;\n",
              "      border-left-color: var(--fill-color);\n",
              "      border-top-color: var(--fill-color);\n",
              "      border-right-color: var(--fill-color);\n",
              "    }\n",
              "    40% {\n",
              "      border-color: transparent;\n",
              "      border-right-color: var(--fill-color);\n",
              "      border-top-color: var(--fill-color);\n",
              "    }\n",
              "    60% {\n",
              "      border-color: transparent;\n",
              "      border-right-color: var(--fill-color);\n",
              "    }\n",
              "    80% {\n",
              "      border-color: transparent;\n",
              "      border-right-color: var(--fill-color);\n",
              "      border-bottom-color: var(--fill-color);\n",
              "    }\n",
              "    90% {\n",
              "      border-color: transparent;\n",
              "      border-bottom-color: var(--fill-color);\n",
              "    }\n",
              "  }\n",
              "</style>\n",
              "\n",
              "  <script>\n",
              "    async function quickchart(key) {\n",
              "      const quickchartButtonEl =\n",
              "        document.querySelector('#' + key + ' button');\n",
              "      quickchartButtonEl.disabled = true;  // To prevent multiple clicks.\n",
              "      quickchartButtonEl.classList.add('colab-df-spinner');\n",
              "      try {\n",
              "        const charts = await google.colab.kernel.invokeFunction(\n",
              "            'suggestCharts', [key], {});\n",
              "      } catch (error) {\n",
              "        console.error('Error during call to suggestCharts:', error);\n",
              "      }\n",
              "      quickchartButtonEl.classList.remove('colab-df-spinner');\n",
              "      quickchartButtonEl.classList.add('colab-df-quickchart-complete');\n",
              "    }\n",
              "    (() => {\n",
              "      let quickchartButtonEl =\n",
              "        document.querySelector('#df-65aa7f90-7c8a-4e0c-a8be-956cba00646a button');\n",
              "      quickchartButtonEl.style.display =\n",
              "        google.colab.kernel.accessAllowed ? 'block' : 'none';\n",
              "    })();\n",
              "  </script>\n",
              "</div>\n",
              "\n",
              "  <div id=\"id_2dd6e477-03e3-4fe1-8114-f757264866f3\">\n",
              "    <style>\n",
              "      .colab-df-generate {\n",
              "        background-color: #E8F0FE;\n",
              "        border: none;\n",
              "        border-radius: 50%;\n",
              "        cursor: pointer;\n",
              "        display: none;\n",
              "        fill: #1967D2;\n",
              "        height: 32px;\n",
              "        padding: 0 0 0 0;\n",
              "        width: 32px;\n",
              "      }\n",
              "\n",
              "      .colab-df-generate:hover {\n",
              "        background-color: #E2EBFA;\n",
              "        box-shadow: 0px 1px 2px rgba(60, 64, 67, 0.3), 0px 1px 3px 1px rgba(60, 64, 67, 0.15);\n",
              "        fill: #174EA6;\n",
              "      }\n",
              "\n",
              "      [theme=dark] .colab-df-generate {\n",
              "        background-color: #3B4455;\n",
              "        fill: #D2E3FC;\n",
              "      }\n",
              "\n",
              "      [theme=dark] .colab-df-generate:hover {\n",
              "        background-color: #434B5C;\n",
              "        box-shadow: 0px 1px 3px 1px rgba(0, 0, 0, 0.15);\n",
              "        filter: drop-shadow(0px 1px 2px rgba(0, 0, 0, 0.3));\n",
              "        fill: #FFFFFF;\n",
              "      }\n",
              "    </style>\n",
              "    <button class=\"colab-df-generate\" onclick=\"generateWithVariable('submit')\"\n",
              "            title=\"Generate code using this dataframe.\"\n",
              "            style=\"display:none;\">\n",
              "\n",
              "  <svg xmlns=\"http://www.w3.org/2000/svg\" height=\"24px\"viewBox=\"0 0 24 24\"\n",
              "       width=\"24px\">\n",
              "    <path d=\"M7,19H8.4L18.45,9,17,7.55,7,17.6ZM5,21V16.75L18.45,3.32a2,2,0,0,1,2.83,0l1.4,1.43a1.91,1.91,0,0,1,.58,1.4,1.91,1.91,0,0,1-.58,1.4L9.25,21ZM18.45,9,17,7.55Zm-12,3A5.31,5.31,0,0,0,4.9,8.1,5.31,5.31,0,0,0,1,6.5,5.31,5.31,0,0,0,4.9,4.9,5.31,5.31,0,0,0,6.5,1,5.31,5.31,0,0,0,8.1,4.9,5.31,5.31,0,0,0,12,6.5,5.46,5.46,0,0,0,6.5,12Z\"/>\n",
              "  </svg>\n",
              "    </button>\n",
              "    <script>\n",
              "      (() => {\n",
              "      const buttonEl =\n",
              "        document.querySelector('#id_2dd6e477-03e3-4fe1-8114-f757264866f3 button.colab-df-generate');\n",
              "      buttonEl.style.display =\n",
              "        google.colab.kernel.accessAllowed ? 'block' : 'none';\n",
              "\n",
              "      buttonEl.onclick = () => {\n",
              "        google.colab.notebook.generateWithVariable('submit');\n",
              "      }\n",
              "      })();\n",
              "    </script>\n",
              "  </div>\n",
              "\n",
              "    </div>\n",
              "  </div>\n"
            ],
            "application/vnd.google.colaboratory.intrinsic+json": {
              "type": "dataframe",
              "variable_name": "submit",
              "summary": "{\n  \"name\": \"submit\",\n  \"rows\": 12225,\n  \"fields\": [\n    {\n      \"column\": \"ID\",\n      \"properties\": {\n        \"dtype\": \"string\",\n        \"num_unique_values\": 12225,\n        \"samples\": [\n          \"test_8456\",\n          \"test_6835\",\n          \"test_1617\"\n        ],\n        \"semantic_type\": \"\",\n        \"description\": \"\"\n      }\n    },\n    {\n      \"column\": \"target\",\n      \"properties\": {\n        \"dtype\": \"number\",\n        \"std\": 0.43736848792658256,\n        \"min\": 0.0,\n        \"max\": 1.0,\n        \"num_unique_values\": 2,\n        \"samples\": [\n          1.0,\n          0.0\n        ],\n        \"semantic_type\": \"\",\n        \"description\": \"\"\n      }\n    }\n  ]\n}"
            }
          },
          "metadata": {},
          "execution_count": 141
        }
      ]
    },
    {
      "cell_type": "markdown",
      "source": [
        "- 예측 결과를 csv 파일로 저장하여 제출"
      ],
      "metadata": {
        "id": "bjw87GeIV-BP"
      }
    },
    {
      "cell_type": "code",
      "source": [
        "submit.to_csv(f\"{DATA_PATH}submit.csv\",index=False)"
      ],
      "metadata": {
        "id": "3D7Z4LW26AH3"
      },
      "execution_count": null,
      "outputs": []
    },
    {
      "cell_type": "code",
      "source": [
        "submit.to_csv(f\"{DATA_PATH}submit_proba.csv\",index=False)"
      ],
      "metadata": {
        "id": "SsLTeJeoWBc_"
      },
      "execution_count": null,
      "outputs": []
    },
    {
      "cell_type": "code",
      "source": [],
      "metadata": {
        "id": "pO33hCMNWBaM"
      },
      "execution_count": null,
      "outputs": []
    },
    {
      "cell_type": "code",
      "source": [],
      "metadata": {
        "id": "KVxvAdrvWBXQ"
      },
      "execution_count": null,
      "outputs": []
    },
    {
      "cell_type": "code",
      "source": [],
      "metadata": {
        "id": "gSU2eoSNVGn4"
      },
      "execution_count": null,
      "outputs": []
    }
  ]
}